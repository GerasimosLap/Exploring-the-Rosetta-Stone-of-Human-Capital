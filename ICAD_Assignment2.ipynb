{
 "cells": [
  {
   "cell_type": "markdown",
   "metadata": {},
   "source": [
    "<h1> Lapakis Gerasimos - P3170089 - ICAD ASSIGNMENT 2: Exploring the Rosetta Stone of Human Capital</h1>"
   ]
  },
  {
   "cell_type": "markdown",
   "metadata": {},
   "source": [
    "**Note: This file uses relative file paths, so all files must be included in the same directory as this ipynb.**"
   ]
  },
  {
   "cell_type": "code",
   "execution_count": 1,
   "metadata": {},
   "outputs": [],
   "source": [
    "import pandas as pd\n",
    "import numpy as np\n",
    "import matplotlib.pyplot as plt\n",
    "import matplotlib\n",
    "import statsmodels.formula.api as smf\n",
    "import scipy.stats.stats as stats\n",
    "from plotnine import *\n",
    "%matplotlib inline\n",
    "matplotlib.style.use('ggplot')\n",
    "pd.set_option('display.max_columns', None)"
   ]
  },
  {
   "cell_type": "markdown",
   "metadata": {},
   "source": [
    "<h2>Q1: Income and Test Results</h2>"
   ]
  },
  {
   "cell_type": "markdown",
   "metadata": {},
   "source": [
    "We go to the 2nd sheet of the excel file, named Country Scores."
   ]
  },
  {
   "cell_type": "code",
   "execution_count": 2,
   "metadata": {},
   "outputs": [],
   "source": [
    "country_scores = pd.read_excel('https://www.cgdev.org/sites/default/files/patel-sandefur-human-capital-final-results.xlsx','Country Scores')"
   ]
  },
  {
   "cell_type": "markdown",
   "metadata": {},
   "source": [
    "We exclude the last lines of our csv as they are junk.  \n",
    "We keep the series code NY.GDP.PCAP.PP.KD as it is the GDP per capita, PPP code, that we need."
   ]
  },
  {
   "cell_type": "code",
   "execution_count": 3,
   "metadata": {},
   "outputs": [],
   "source": [
    "wdi = pd.read_csv('WDI_data.csv',nrows=792)\n",
    "wdi = wdi.loc[wdi['Series Code'].isin(['NY.GDP.PCAP.PP.KD'])]"
   ]
  },
  {
   "cell_type": "markdown",
   "metadata": {},
   "source": [
    "We merge the two files on country code"
   ]
  },
  {
   "cell_type": "code",
   "execution_count": 4,
   "metadata": {},
   "outputs": [],
   "source": [
    "country_scores = pd.merge(country_scores,\n",
    "               wdi[['2015 [YR2015]','Country Code']], \n",
    "               on='Country Code', \n",
    "               how='inner')"
   ]
  },
  {
   "cell_type": "markdown",
   "metadata": {},
   "source": [
    "We rename some columns, to be better looking."
   ]
  },
  {
   "cell_type": "code",
   "execution_count": 5,
   "metadata": {},
   "outputs": [],
   "source": [
    "country_scores = country_scores.rename(columns={'Percent Above Math Benchmark (400 on TIMSS Scale)': 'ABOVE_400_TIMSS', 'Percent Above Reading Benchmark (400 on PIRLS Scale)': 'ABOVE_400_PIRLS'})\n",
    "\n",
    "country_scores = country_scores.rename(columns={'Median Math Score (TIMSS Scale, 4th Grade)': 'MEDIAN_TIMSS', 'Median Reading Score (PIRLS Scale, 4th Grade)': 'MEDIAN_PIRLS'})\n",
    "\n",
    "country_scores = country_scores.rename(columns={'2015 [YR2015]': 'GDP_2015'})"
   ]
  },
  {
   "cell_type": "markdown",
   "metadata": {},
   "source": [
    "We also make GDP_2015 a float, because we checked with dtypes and it was an object."
   ]
  },
  {
   "cell_type": "code",
   "execution_count": 6,
   "metadata": {},
   "outputs": [],
   "source": [
    "country_scores['GDP_2015'] = country_scores['GDP_2015'].astype('float')"
   ]
  },
  {
   "cell_type": "markdown",
   "metadata": {},
   "source": [
    "We need the logged GDP"
   ]
  },
  {
   "cell_type": "code",
   "execution_count": 7,
   "metadata": {},
   "outputs": [],
   "source": [
    "country_scores['GDP_2015'] = np.log(country_scores['GDP_2015'])"
   ]
  },
  {
   "cell_type": "markdown",
   "metadata": {},
   "source": [
    "We exclude the countries that do not have a MEDIAN TIMSS score."
   ]
  },
  {
   "cell_type": "code",
   "execution_count": 8,
   "metadata": {},
   "outputs": [],
   "source": [
    "country_scores_TIMSS  = country_scores [country_scores ['MEDIAN_TIMSS'].notna()].copy()"
   ]
  },
  {
   "cell_type": "code",
   "execution_count": 9,
   "metadata": {},
   "outputs": [
    {
     "data": {
      "text/plain": [
       "Intercept    46.117041\n",
       "GDP_2015     41.745974\n",
       "dtype: float64"
      ]
     },
     "execution_count": 9,
     "metadata": {},
     "output_type": "execute_result"
    }
   ],
   "source": [
    "mod = smf.ols('MEDIAN_TIMSS ~ GDP_2015', data=country_scores_TIMSS)\n",
    "country_scores_res_q1_TIMSS = mod.fit()\n",
    "country_scores_res_q1_TIMSS.params"
   ]
  },
  {
   "cell_type": "markdown",
   "metadata": {},
   "source": [
    "The relationship between MEDIAN_TIMSS (y) and logged GDP_2015 (x) is: y = 46.117041 + 41.745974x"
   ]
  },
  {
   "cell_type": "code",
   "execution_count": 10,
   "metadata": {},
   "outputs": [
    {
     "data": {
      "image/png": "[encoded data removed]",
      "text/plain": [
       "<Figure size 640x480 with 1 Axes>"
      ]
     },
     "metadata": {},
     "output_type": "display_data"
    },
    {
     "data": {
      "text/plain": [
       "<ggplot: (109360064497)>"
      ]
     },
     "execution_count": 10,
     "metadata": {},
     "output_type": "execute_result"
    }
   ],
   "source": [
    "ggplot(data=country_scores_TIMSS) + geom_point(mapping=aes(x='GDP_2015', y='MEDIAN_TIMSS')) + xlab(\"Log GDP per Capita (PPP) in 2015\") + ylab(\"TIMSS\")"
   ]
  },
  {
   "cell_type": "markdown",
   "metadata": {},
   "source": [
    "We get the residuals with resid.to_frame() to use them at the next question."
   ]
  },
  {
   "cell_type": "code",
   "execution_count": 11,
   "metadata": {},
   "outputs": [],
   "source": [
    "country_scores_TIMSS['RESID_Q1'] = country_scores_res_q1_TIMSS.resid.to_frame()"
   ]
  },
  {
   "cell_type": "markdown",
   "metadata": {},
   "source": [
    "We do the same process for PIRLS."
   ]
  },
  {
   "cell_type": "code",
   "execution_count": 12,
   "metadata": {},
   "outputs": [],
   "source": [
    "country_scores_PIRLS  = country_scores [country_scores ['MEDIAN_PIRLS'].notna()].copy()"
   ]
  },
  {
   "cell_type": "code",
   "execution_count": 13,
   "metadata": {},
   "outputs": [
    {
     "data": {
      "text/plain": [
       "Intercept    42.619127\n",
       "GDP_2015     43.912415\n",
       "dtype: float64"
      ]
     },
     "execution_count": 13,
     "metadata": {},
     "output_type": "execute_result"
    }
   ],
   "source": [
    "mod = smf.ols('MEDIAN_PIRLS ~ GDP_2015', data=country_scores_PIRLS)\n",
    "country_scores_res_q1_PIRLS = mod.fit()\n",
    "country_scores_res_q1_PIRLS.params"
   ]
  },
  {
   "cell_type": "markdown",
   "metadata": {},
   "source": [
    "The relationship between MEDIAN_PIRLS (y) and logged GDP_2015 (x) is: y = 42.619127 + 43.912415x"
   ]
  },
  {
   "cell_type": "code",
   "execution_count": 14,
   "metadata": {},
   "outputs": [
    {
     "data": {
      "image/png": "[encoded data removed]",
      "text/plain": [
       "<Figure size 640x480 with 1 Axes>"
      ]
     },
     "metadata": {},
     "output_type": "display_data"
    },
    {
     "data": {
      "text/plain": [
       "<ggplot: (109361451216)>"
      ]
     },
     "execution_count": 14,
     "metadata": {},
     "output_type": "execute_result"
    }
   ],
   "source": [
    "ggplot(data=country_scores_PIRLS) + geom_point(mapping=aes(x='GDP_2015', y='MEDIAN_PIRLS')) + xlab(\"Log GDP per Capita (PPP) in 2015\") + ylab(\"PIRLS\")"
   ]
  },
  {
   "cell_type": "code",
   "execution_count": 15,
   "metadata": {},
   "outputs": [],
   "source": [
    "country_scores_PIRLS['RESID_Q1'] = country_scores_res_q1_PIRLS.resid.to_frame()"
   ]
  },
  {
   "cell_type": "markdown",
   "metadata": {},
   "source": [
    "<h2>Q2: Years of Schooling and Test Scores</h2>"
   ]
  },
  {
   "cell_type": "markdown",
   "metadata": {},
   "source": [
    "We keep 2010 as date and rename WBcode to Country Code so we can merge with our dataframes."
   ]
  },
  {
   "cell_type": "code",
   "execution_count": 16,
   "metadata": {},
   "outputs": [],
   "source": [
    "avg_yrs = pd.read_stata('BL2013_MF1599_v2.2.dta')\n",
    "avg_yrs = avg_yrs.loc[(avg_yrs['year']==2010.0)]\n",
    "avg_yrs = avg_yrs.rename(columns={'WBcode': 'Country Code'})"
   ]
  },
  {
   "cell_type": "code",
   "execution_count": 17,
   "metadata": {},
   "outputs": [],
   "source": [
    "country_scores_yrs_TIMSS = pd.merge(country_scores_TIMSS,\n",
    "               avg_yrs[['Country Code','yr_sch']], \n",
    "               on='Country Code', \n",
    "               how='inner')"
   ]
  },
  {
   "cell_type": "code",
   "execution_count": 18,
   "metadata": {},
   "outputs": [],
   "source": [
    "country_scores_yrs_PIRLS = pd.merge(country_scores_PIRLS,\n",
    "               avg_yrs[['Country Code','yr_sch']], \n",
    "               on='Country Code', \n",
    "               how='inner')"
   ]
  },
  {
   "cell_type": "markdown",
   "metadata": {},
   "source": [
    "We fit a model between the logged GDP and the years of school."
   ]
  },
  {
   "cell_type": "code",
   "execution_count": 19,
   "metadata": {},
   "outputs": [
    {
     "data": {
      "text/plain": [
       "Intercept   -9.921657\n",
       "GDP_2015     1.926067\n",
       "dtype: float64"
      ]
     },
     "execution_count": 19,
     "metadata": {},
     "output_type": "execute_result"
    }
   ],
   "source": [
    "mod = smf.ols('yr_sch ~ GDP_2015', data=country_scores_yrs_TIMSS)\n",
    "country_scores_yrs_TIMSS_res = mod.fit()\n",
    "country_scores_yrs_TIMSS_res.params"
   ]
  },
  {
   "cell_type": "markdown",
   "metadata": {},
   "source": [
    "The relationship between yr_sch (y) and logged GDP_2015 (x) is: y = -9.921657 + 1.926067x"
   ]
  },
  {
   "cell_type": "code",
   "execution_count": 20,
   "metadata": {},
   "outputs": [
    {
     "data": {
      "image/png": "[encoded data removed]",
      "text/plain": [
       "<Figure size 640x480 with 1 Axes>"
      ]
     },
     "metadata": {},
     "output_type": "display_data"
    },
    {
     "data": {
      "text/plain": [
       "<ggplot: (109361451120)>"
      ]
     },
     "execution_count": 20,
     "metadata": {},
     "output_type": "execute_result"
    }
   ],
   "source": [
    "ggplot(data=country_scores_yrs_TIMSS) + geom_point(mapping=aes(x='GDP_2015', y='yr_sch')) + xlab(\"Log GDP per Capita (PPP) in 2015\") + ylab(\"School Years\")"
   ]
  },
  {
   "cell_type": "code",
   "execution_count": 21,
   "metadata": {},
   "outputs": [
    {
     "data": {
      "text/plain": [
       "Intercept   -10.182531\n",
       "GDP_2015      1.967089\n",
       "dtype: float64"
      ]
     },
     "execution_count": 21,
     "metadata": {},
     "output_type": "execute_result"
    }
   ],
   "source": [
    "mod = smf.ols('yr_sch ~ GDP_2015', data=country_scores_yrs_PIRLS)\n",
    "country_scores_yrs_PIRLS_res = mod.fit()\n",
    "country_scores_yrs_PIRLS_res.params"
   ]
  },
  {
   "cell_type": "markdown",
   "metadata": {},
   "source": [
    "The relationship between yr_sch (y) and logged GDP_2015 (x) is: y = -10.182531 + 1.967089x"
   ]
  },
  {
   "cell_type": "code",
   "execution_count": 22,
   "metadata": {},
   "outputs": [
    {
     "data": {
      "image/png": "[encoded data removed]",
      "text/plain": [
       "<Figure size 640x480 with 1 Axes>"
      ]
     },
     "metadata": {},
     "output_type": "display_data"
    },
    {
     "data": {
      "text/plain": [
       "<ggplot: (109361451111)>"
      ]
     },
     "execution_count": 22,
     "metadata": {},
     "output_type": "execute_result"
    }
   ],
   "source": [
    "ggplot(data=country_scores_yrs_PIRLS) + geom_point(mapping=aes(x='GDP_2015', y='yr_sch')) + xlab(\"Log GDP per Capita (PPP) in 2015\") + ylab(\"School Years\")"
   ]
  },
  {
   "cell_type": "markdown",
   "metadata": {},
   "source": [
    "We also get the residuals from the plots above."
   ]
  },
  {
   "cell_type": "code",
   "execution_count": 23,
   "metadata": {},
   "outputs": [],
   "source": [
    "country_scores_yrs_TIMSS['RESID_Q2'] = country_scores_yrs_TIMSS_res.resid.to_frame()"
   ]
  },
  {
   "cell_type": "code",
   "execution_count": 24,
   "metadata": {},
   "outputs": [],
   "source": [
    "country_scores_yrs_PIRLS['RESID_Q2'] = country_scores_yrs_PIRLS_res.resid.to_frame()"
   ]
  },
  {
   "cell_type": "markdown",
   "metadata": {},
   "source": [
    "We fit a model between residuals from Q1 and the residuals above. "
   ]
  },
  {
   "cell_type": "code",
   "execution_count": 25,
   "metadata": {},
   "outputs": [
    {
     "data": {
      "text/plain": [
       "Intercept    -1.100703\n",
       "RESID_Q2     21.640917\n",
       "dtype: float64"
      ]
     },
     "execution_count": 25,
     "metadata": {},
     "output_type": "execute_result"
    }
   ],
   "source": [
    "mod = smf.ols('RESID_Q1 ~ RESID_Q2', data=country_scores_yrs_TIMSS)\n",
    "country_scores_yrs_TIMSS_res = mod.fit()\n",
    "country_scores_yrs_TIMSS_res.params"
   ]
  },
  {
   "cell_type": "markdown",
   "metadata": {},
   "source": [
    "The relationship between RESID_Q1 (y) and logged RESID_Q2 (x) is: y = -1.100703 + 21.640917x"
   ]
  },
  {
   "cell_type": "code",
   "execution_count": 26,
   "metadata": {},
   "outputs": [
    {
     "data": {
      "text/plain": [
       "Intercept     1.181636\n",
       "RESID_Q2     20.248068\n",
       "dtype: float64"
      ]
     },
     "execution_count": 26,
     "metadata": {},
     "output_type": "execute_result"
    }
   ],
   "source": [
    "mod = smf.ols('RESID_Q1 ~ RESID_Q2', data=country_scores_yrs_PIRLS)\n",
    "country_scores_yrs_PIRLS_res = mod.fit()\n",
    "country_scores_yrs_PIRLS_res.params"
   ]
  },
  {
   "cell_type": "markdown",
   "metadata": {},
   "source": [
    "The relationship between RESID_Q1 (y) and logged RESID_Q2 (x) is: y = 1.181636 + 20.248068x"
   ]
  },
  {
   "cell_type": "code",
   "execution_count": 27,
   "metadata": {},
   "outputs": [
    {
     "data": {
      "image/png": "[encoded data removed]",
      "text/plain": [
       "<Figure size 640x480 with 1 Axes>"
      ]
     },
     "metadata": {},
     "output_type": "display_data"
    },
    {
     "data": {
      "text/plain": [
       "<ggplot: (109361454677)>"
      ]
     },
     "execution_count": 27,
     "metadata": {},
     "output_type": "execute_result"
    }
   ],
   "source": [
    "ggplot(data=country_scores_yrs_TIMSS) + geom_point(mapping=aes(x='RESID_Q2', y='RESID_Q1')) + xlab(\"Years of Schooling (Residualized)\") + ylab(\"TIMSS score (Residualized)\")"
   ]
  },
  {
   "cell_type": "code",
   "execution_count": 28,
   "metadata": {},
   "outputs": [
    {
     "data": {
      "image/png": "[encoded data removed]",
      "text/plain": [
       "<Figure size 640x480 with 1 Axes>"
      ]
     },
     "metadata": {},
     "output_type": "display_data"
    },
    {
     "data": {
      "text/plain": [
       "<ggplot: (109361452692)>"
      ]
     },
     "execution_count": 28,
     "metadata": {},
     "output_type": "execute_result"
    }
   ],
   "source": [
    "ggplot(data=country_scores_yrs_PIRLS) + geom_point(mapping=aes(x='RESID_Q2', y='RESID_Q1')) + xlab(\"Years of Schooling (Residualized)\") + ylab(\"PIRLS score (Residualized)\") "
   ]
  },
  {
   "cell_type": "markdown",
   "metadata": {},
   "source": [
    "<h2>Q3: Compare New and Previous Estimates</h2>"
   ]
  },
  {
   "cell_type": "code",
   "execution_count": 29,
   "metadata": {},
   "outputs": [],
   "source": [
    "HLO = pd.read_stata('HLO Panel Data (mean, thresh) - Jan 2018.dta')"
   ]
  },
  {
   "cell_type": "markdown",
   "metadata": {},
   "source": [
    "We check low_threshold column for null values."
   ]
  },
  {
   "cell_type": "code",
   "execution_count": 30,
   "metadata": {},
   "outputs": [],
   "source": [
    "HLO = HLO[HLO['low_threshold'].notna()]"
   ]
  },
  {
   "cell_type": "markdown",
   "metadata": {},
   "source": [
    "To get the latest date available we must group by cntabb and use describe on year.  \n",
    "We then merge this temporary dataframe with HLO on cntabb and year to keep the max date rows only.  \n",
    "We also rename the column max to year so we can merge.  "
   ]
  },
  {
   "cell_type": "code",
   "execution_count": 31,
   "metadata": {},
   "outputs": [],
   "source": [
    "HLO_maxdates = HLO.groupby(\"cntabb\").year.describe()\n",
    "HLO_maxdates = HLO_maxdates.reset_index()\n",
    "HLO_maxdates = HLO_maxdates.rename(columns={'max': 'year'})"
   ]
  },
  {
   "cell_type": "code",
   "execution_count": 32,
   "metadata": {},
   "outputs": [],
   "source": [
    "HLO = pd.merge(HLO,\n",
    "               HLO_maxdates[['cntabb','year']], \n",
    "               on=['cntabb','year'], \n",
    "               how='inner')"
   ]
  },
  {
   "cell_type": "code",
   "execution_count": 33,
   "metadata": {},
   "outputs": [],
   "source": [
    "HLO = HLO.rename(columns={'cntabb': 'Country Code'})"
   ]
  },
  {
   "cell_type": "markdown",
   "metadata": {},
   "source": [
    "We merge the dataframes of question 1 with the HLO dataframe"
   ]
  },
  {
   "cell_type": "code",
   "execution_count": 34,
   "metadata": {},
   "outputs": [],
   "source": [
    "new_country_scores_TIMSS = pd.merge(country_scores_TIMSS,\n",
    "               HLO, \n",
    "               on='Country Code', \n",
    "               how='inner')"
   ]
  },
  {
   "cell_type": "code",
   "execution_count": 35,
   "metadata": {},
   "outputs": [],
   "source": [
    "new_country_scores_PIRLS = pd.merge(country_scores_PIRLS,\n",
    "               HLO, \n",
    "               on='Country Code', \n",
    "               how='inner')"
   ]
  },
  {
   "cell_type": "markdown",
   "metadata": {},
   "source": [
    "We filter out na values for TIMSS and PIRLS"
   ]
  },
  {
   "cell_type": "code",
   "execution_count": 36,
   "metadata": {},
   "outputs": [],
   "source": [
    "new_country_scores_TIMSS = new_country_scores_TIMSS[new_country_scores_TIMSS['ABOVE_400_TIMSS'].notna()]"
   ]
  },
  {
   "cell_type": "code",
   "execution_count": 37,
   "metadata": {},
   "outputs": [],
   "source": [
    "new_country_scores_PIRLS = new_country_scores_PIRLS[new_country_scores_PIRLS['ABOVE_400_PIRLS'].notna()]"
   ]
  },
  {
   "cell_type": "code",
   "execution_count": 38,
   "metadata": {},
   "outputs": [
    {
     "name": "stdout",
     "output_type": "stream",
     "text": [
      "Spearman SpearmanrResult(correlation=0.8973790562032015, pvalue=1.6879737641244243e-25)\n"
     ]
    }
   ],
   "source": [
    "print('Spearman', stats.spearmanr(new_country_scores_TIMSS['ABOVE_400_TIMSS'], new_country_scores_TIMSS['low_threshold']))"
   ]
  },
  {
   "cell_type": "code",
   "execution_count": 39,
   "metadata": {},
   "outputs": [
    {
     "name": "stdout",
     "output_type": "stream",
     "text": [
      "Spearman SpearmanrResult(correlation=0.904517341824943, pvalue=5.290584772193869e-25)\n"
     ]
    }
   ],
   "source": [
    "print('Spearman', stats.spearmanr(new_country_scores_PIRLS['ABOVE_400_PIRLS'], new_country_scores_PIRLS['low_threshold']))"
   ]
  },
  {
   "cell_type": "markdown",
   "metadata": {},
   "source": [
    "We fit a model between ABOVE_400_TIMSS and low_threshold. "
   ]
  },
  {
   "cell_type": "code",
   "execution_count": 40,
   "metadata": {},
   "outputs": [
    {
     "data": {
      "text/plain": [
       "Intercept       -10.655545\n",
       "low_threshold     1.082992\n",
       "dtype: float64"
      ]
     },
     "execution_count": 40,
     "metadata": {},
     "output_type": "execute_result"
    }
   ],
   "source": [
    "mod = smf.ols('ABOVE_400_TIMSS ~ low_threshold', data=new_country_scores_TIMSS)\n",
    "new_country_scores_TIMSS_res = mod.fit()\n",
    "new_country_scores_TIMSS_res.params"
   ]
  },
  {
   "cell_type": "markdown",
   "metadata": {},
   "source": [
    "The relationship between ABOVE_400_TIMSS (y) and low_threshold (x) is: y = -10.655545 + 1.082992x"
   ]
  },
  {
   "cell_type": "code",
   "execution_count": 41,
   "metadata": {},
   "outputs": [
    {
     "data": {
      "image/png": "[encoded data removed]",
      "text/plain": [
       "<Figure size 640x480 with 1 Axes>"
      ]
     },
     "metadata": {},
     "output_type": "display_data"
    },
    {
     "data": {
      "text/plain": [
       "<ggplot: (109361462842)>"
      ]
     },
     "execution_count": 41,
     "metadata": {},
     "output_type": "execute_result"
    }
   ],
   "source": [
    "ggplot(data=new_country_scores_TIMSS) + geom_text(aes(x='low_threshold', y='ABOVE_400_TIMSS',label='Country Code')) + xlab(\"World Bank Estimates\") + ylab(\"New Estimates of Portion above 400 on TIMSS\") "
   ]
  },
  {
   "cell_type": "markdown",
   "metadata": {},
   "source": [
    "We fit a model between ABOVE_400_PIRLS and low_threshold. "
   ]
  },
  {
   "cell_type": "code",
   "execution_count": 42,
   "metadata": {},
   "outputs": [
    {
     "data": {
      "text/plain": [
       "Intercept       -3.298501\n",
       "low_threshold    1.070801\n",
       "dtype: float64"
      ]
     },
     "execution_count": 42,
     "metadata": {},
     "output_type": "execute_result"
    }
   ],
   "source": [
    "mod = smf.ols('ABOVE_400_PIRLS ~ low_threshold', data=new_country_scores_PIRLS)\n",
    "new_country_scores_PIRLS_res = mod.fit()\n",
    "new_country_scores_PIRLS_res.params"
   ]
  },
  {
   "cell_type": "markdown",
   "metadata": {},
   "source": [
    "The relationship between ABOVE_400_TIMSS (y) and low_threshold (x) is: y = -3.298501 + 1.070801x"
   ]
  },
  {
   "cell_type": "code",
   "execution_count": 43,
   "metadata": {},
   "outputs": [
    {
     "data": {
      "image/png": "[encoded data removed]",
      "text/plain": [
       "<Figure size 640x480 with 1 Axes>"
      ]
     },
     "metadata": {},
     "output_type": "display_data"
    },
    {
     "data": {
      "text/plain": [
       "<ggplot: (109361478479)>"
      ]
     },
     "execution_count": 43,
     "metadata": {},
     "output_type": "execute_result"
    }
   ],
   "source": [
    "ggplot(data=new_country_scores_PIRLS) + geom_text(aes(x='low_threshold', y='ABOVE_400_PIRLS',label='Country Code')) + xlab(\"World Bank Estimates\") + ylab(\"New Estimates of Portion above 400 on PIRLS\") "
   ]
  },
  {
   "cell_type": "markdown",
   "metadata": {},
   "source": [
    "<h2>Q4: Skills Intensity</h2>"
   ]
  },
  {
   "cell_type": "code",
   "execution_count": 44,
   "metadata": {},
   "outputs": [],
   "source": [
    "census = pd.read_csv('usa_00001.csv.gz')"
   ]
  },
  {
   "cell_type": "markdown",
   "metadata": {},
   "source": [
    "We identify college and highschool graduates.  \n",
    "We group by industry and sum all PERWT to find how many people work in an industry from each category.  "
   ]
  },
  {
   "cell_type": "code",
   "execution_count": 45,
   "metadata": {},
   "outputs": [],
   "source": [
    "college_grad = census.loc[census['EDUC']>=10]\n",
    "college_grad = college_grad.groupby('IND', as_index=False).sum('PERWT')\n",
    "college_grad = college_grad.rename(columns={'PERWT': 'CLG_PERWT_BY_IND'})"
   ]
  },
  {
   "cell_type": "code",
   "execution_count": 46,
   "metadata": {},
   "outputs": [],
   "source": [
    "hs_grad = census.loc[(census['EDUC']>=6)]\n",
    "hs_grad = hs_grad.groupby('IND', as_index=False).sum('PERWT')\n",
    "hs_grad = hs_grad.rename(columns={'PERWT': 'HS_PERWT_BY_IND'})"
   ]
  },
  {
   "cell_type": "markdown",
   "metadata": {},
   "source": [
    "We merge the 2 dataframes. "
   ]
  },
  {
   "cell_type": "code",
   "execution_count": 47,
   "metadata": {},
   "outputs": [],
   "source": [
    "skills_intensity_industry = pd.merge(college_grad[['CLG_PERWT_BY_IND','IND']],\n",
    "               hs_grad[['HS_PERWT_BY_IND','IND']], \n",
    "               on='IND', \n",
    "               how='outer')"
   ]
  },
  {
   "cell_type": "markdown",
   "metadata": {},
   "source": [
    "We add the 2 PERWT for each industry so we can get the total PERWT for 2000"
   ]
  },
  {
   "cell_type": "code",
   "execution_count": 48,
   "metadata": {},
   "outputs": [],
   "source": [
    "skills_intensity_industry['TOTAL_PERWT'] = skills_intensity_industry['CLG_PERWT_BY_IND'] + skills_intensity_industry['HS_PERWT_BY_IND']"
   ]
  },
  {
   "cell_type": "markdown",
   "metadata": {},
   "source": [
    "We map industry codes of 2000 to the ones of 1990"
   ]
  },
  {
   "cell_type": "code",
   "execution_count": 49,
   "metadata": {},
   "outputs": [],
   "source": [
    "cw_ind2000 = pd.read_stata('cw_ind2000_ind1990ddx.dta')"
   ]
  },
  {
   "cell_type": "code",
   "execution_count": 50,
   "metadata": {},
   "outputs": [],
   "source": [
    "skills_intensity_industry = skills_intensity_industry.rename(columns={'IND': 'ind2000'})"
   ]
  },
  {
   "cell_type": "code",
   "execution_count": 51,
   "metadata": {},
   "outputs": [],
   "source": [
    "skills_intensity_industry = pd.merge(cw_ind2000,\n",
    "               skills_intensity_industry, \n",
    "               on='ind2000', \n",
    "               how='inner')"
   ]
  },
  {
   "cell_type": "markdown",
   "metadata": {},
   "source": [
    "We calculate the 1990 PERWT by multiplying the 2000 PERWT with weight.  "
   ]
  },
  {
   "cell_type": "code",
   "execution_count": 52,
   "metadata": {},
   "outputs": [],
   "source": [
    "skills_intensity_industry['PERWT_BY_IND_CLG_1990'] = skills_intensity_industry['CLG_PERWT_BY_IND'] * skills_intensity_industry['weight']\n",
    "\n",
    "skills_intensity_industry['PERWT_BY_IND_HS_1990'] = skills_intensity_industry['HS_PERWT_BY_IND'] * skills_intensity_industry['weight']\n",
    "\n",
    "skills_intensity_industry['TOTAL_PERWT_1990'] = skills_intensity_industry['TOTAL_PERWT'] * skills_intensity_industry['weight']"
   ]
  },
  {
   "cell_type": "markdown",
   "metadata": {},
   "source": [
    "We find the portion by dividing the PERWT of 1990 with total PERWT"
   ]
  },
  {
   "cell_type": "code",
   "execution_count": 53,
   "metadata": {},
   "outputs": [],
   "source": [
    "skills_intensity_industry['PORTION_HS'] = skills_intensity_industry['PERWT_BY_IND_HS_1990'] / skills_intensity_industry['TOTAL_PERWT_1990']\n",
    "\n",
    "skills_intensity_industry['PORTION_CLG'] = skills_intensity_industry['PERWT_BY_IND_CLG_1990'] / skills_intensity_industry['TOTAL_PERWT_1990']"
   ]
  },
  {
   "cell_type": "code",
   "execution_count": 54,
   "metadata": {},
   "outputs": [],
   "source": [
    "skills_intensity_industry = skills_intensity_industry.groupby('ind1990ddx',as_index=False).sum()"
   ]
  },
  {
   "cell_type": "markdown",
   "metadata": {},
   "source": [
    "BACI file shows exports of different countries in 2018 for different industry sectors."
   ]
  },
  {
   "cell_type": "code",
   "execution_count": 55,
   "metadata": {},
   "outputs": [],
   "source": [
    "exports = pd.read_csv('BACI_HS17_Y2018_V202001.csv.gz')"
   ]
  },
  {
   "cell_type": "markdown",
   "metadata": {},
   "source": [
    "We map the HS6 code with the SIC87 code, merging with the crosswalk file cw_hs6_sic87dd."
   ]
  },
  {
   "cell_type": "code",
   "execution_count": 56,
   "metadata": {},
   "outputs": [],
   "source": [
    "exports = exports.rename(columns={'k': 'hs6'})"
   ]
  },
  {
   "cell_type": "code",
   "execution_count": 57,
   "metadata": {},
   "outputs": [],
   "source": [
    "mapper = pd.read_stata('cw_hs6_sic87dd.dta')"
   ]
  },
  {
   "cell_type": "code",
   "execution_count": 58,
   "metadata": {},
   "outputs": [],
   "source": [
    "exports = pd.merge(exports,\n",
    "               mapper, \n",
    "               on='hs6', \n",
    "               how='inner')"
   ]
  },
  {
   "cell_type": "markdown",
   "metadata": {},
   "source": [
    "We adjust the trade flow and group it by exporter and SIC87, getting total value per exporter and industry"
   ]
  },
  {
   "cell_type": "code",
   "execution_count": 59,
   "metadata": {},
   "outputs": [],
   "source": [
    "exports['tradeflow'] = exports['share'] * exports['v']"
   ]
  },
  {
   "cell_type": "code",
   "execution_count": 60,
   "metadata": {},
   "outputs": [],
   "source": [
    "exports = exports.groupby(['i','sic87dd'],as_index=False).sum('tradeflow')"
   ]
  },
  {
   "cell_type": "code",
   "execution_count": 61,
   "metadata": {},
   "outputs": [],
   "source": [
    "exports = exports.rename(columns={'sic87dd': 'sic87'})"
   ]
  },
  {
   "cell_type": "markdown",
   "metadata": {},
   "source": [
    "We map to the 1990 SIC87 codes."
   ]
  },
  {
   "cell_type": "code",
   "execution_count": 62,
   "metadata": {},
   "outputs": [],
   "source": [
    "mapper2 = pd.read_stata('cw_sic87_ind1990ddx.dta')"
   ]
  },
  {
   "cell_type": "code",
   "execution_count": 63,
   "metadata": {},
   "outputs": [],
   "source": [
    "exports = pd.merge(exports,\n",
    "               mapper2, \n",
    "               on='sic87', \n",
    "               how='inner')"
   ]
  },
  {
   "cell_type": "markdown",
   "metadata": {},
   "source": [
    "We get the three letter country code at the exporter file, by merging with country_codes_V202001."
   ]
  },
  {
   "cell_type": "code",
   "execution_count": 64,
   "metadata": {},
   "outputs": [],
   "source": [
    "countries = pd.read_csv('country_codes_V202001.csv.gz', encoding='ISO-8859-1')"
   ]
  },
  {
   "cell_type": "code",
   "execution_count": 65,
   "metadata": {},
   "outputs": [],
   "source": [
    "exports = exports.rename(columns={'i': 'country_code'})"
   ]
  },
  {
   "cell_type": "code",
   "execution_count": 66,
   "metadata": {},
   "outputs": [],
   "source": [
    "exports = pd.merge(exports,\n",
    "               countries[['country_code','iso_3digit_alpha']], \n",
    "               on='country_code', \n",
    "               how='inner')"
   ]
  },
  {
   "cell_type": "code",
   "execution_count": 67,
   "metadata": {},
   "outputs": [],
   "source": [
    "exports = exports.rename(columns={'country_code': 'exports'})"
   ]
  },
  {
   "cell_type": "markdown",
   "metadata": {},
   "source": [
    "We do 2 merges to get for each country, the value of exports per industry and the weighted average of high school graduates and college graduates."
   ]
  },
  {
   "cell_type": "code",
   "execution_count": 68,
   "metadata": {},
   "outputs": [],
   "source": [
    "exports = exports.rename(columns={'iso_3digit_alpha': 'Country Code'})"
   ]
  },
  {
   "cell_type": "code",
   "execution_count": 69,
   "metadata": {},
   "outputs": [],
   "source": [
    "exports = pd.merge(exports,\n",
    "               skills_intensity_industry, \n",
    "               on='ind1990ddx',\n",
    "               how='inner')"
   ]
  },
  {
   "cell_type": "code",
   "execution_count": 70,
   "metadata": {},
   "outputs": [],
   "source": [
    "exports = pd.merge(exports,\n",
    "               country_scores, \n",
    "               on='Country Code', \n",
    "               how='inner')"
   ]
  },
  {
   "cell_type": "markdown",
   "metadata": {},
   "source": [
    "We divide by 1000 to get a more readable result and log the tradeflow."
   ]
  },
  {
   "cell_type": "code",
   "execution_count": 71,
   "metadata": {},
   "outputs": [],
   "source": [
    "exports['MEDIAN_TIMSSDIV1000'] = exports['MEDIAN_TIMSS'] / 1000\n",
    "exports['MEDIAN_PIRLSDIV1000'] = exports['MEDIAN_PIRLS'] / 1000"
   ]
  },
  {
   "cell_type": "code",
   "execution_count": 72,
   "metadata": {},
   "outputs": [],
   "source": [
    "exports['log_tradeflow'] = np.log(exports['tradeflow'])"
   ]
  },
  {
   "cell_type": "markdown",
   "metadata": {},
   "source": [
    "We now run the 4 regressions. "
   ]
  },
  {
   "cell_type": "markdown",
   "metadata": {},
   "source": [
    "$$ \\log(V_{ci}) \\sim \\mathrm{TIMSS}_{c}/1000:\\mathrm{college}_i + i + c $$"
   ]
  },
  {
   "cell_type": "code",
   "execution_count": 73,
   "metadata": {},
   "outputs": [
    {
     "data": {
      "text/plain": [
       "Intercept                          8.033347\n",
       "Country[T.Armenia]                -3.066905\n",
       "Country[T.Australia]               1.709166\n",
       "Country[T.Austria]                 2.828373\n",
       "Country[T.Azerbaijan]             -3.353361\n",
       "                                     ...   \n",
       "Country[T.Uruguay]                -2.508942\n",
       "Country[T.Yemen]                  -5.745484\n",
       "Country[T.Yugoslavia]              0.574516\n",
       "MEDIAN_TIMSSDIV1000:PORTION_CLG    0.184743\n",
       "ind1990ddx                         0.000997\n",
       "Length: 79, dtype: float64"
      ]
     },
     "execution_count": 73,
     "metadata": {},
     "output_type": "execute_result"
    }
   ],
   "source": [
    "mod = smf.ols('log_tradeflow ~ MEDIAN_TIMSSDIV1000 : PORTION_CLG + ind1990ddx + Country', data=exports)\n",
    "exports_1_res = mod.fit()\n",
    "exports_1_res.params"
   ]
  },
  {
   "cell_type": "markdown",
   "metadata": {},
   "source": [
    "**R-squared is 0.521 and Intercept 8.033347**"
   ]
  },
  {
   "cell_type": "code",
   "execution_count": 74,
   "metadata": {},
   "outputs": [
    {
     "data": {
      "text/html": [
       "<table class=\"simpletable\">\n",
       "<caption>OLS Regression Results</caption>\n",
       "<tr>\n",
       "  <th>Dep. Variable:</th>      <td>log_tradeflow</td>  <th>  R-squared:         </th> <td>   0.521</td> \n",
       "</tr>\n",
       "<tr>\n",
       "  <th>Model:</th>                   <td>OLS</td>       <th>  Adj. R-squared:    </th> <td>   0.520</td> \n",
       "</tr>\n",
       "<tr>\n",
       "  <th>Method:</th>             <td>Least Squares</td>  <th>  F-statistic:       </th> <td>   420.0</td> \n",
       "</tr>\n",
       "<tr>\n",
       "  <th>Date:</th>             <td>Mon, 28 Dec 2020</td> <th>  Prob (F-statistic):</th>  <td>  0.00</td>  \n",
       "</tr>\n",
       "<tr>\n",
       "  <th>Time:</th>                 <td>20:14:39</td>     <th>  Log-Likelihood:    </th> <td> -65757.</td> \n",
       "</tr>\n",
       "<tr>\n",
       "  <th>No. Observations:</th>      <td> 27490</td>      <th>  AIC:               </th> <td>1.317e+05</td>\n",
       "</tr>\n",
       "<tr>\n",
       "  <th>Df Residuals:</th>          <td> 27418</td>      <th>  BIC:               </th> <td>1.322e+05</td>\n",
       "</tr>\n",
       "<tr>\n",
       "  <th>Df Model:</th>              <td>    71</td>      <th>                     </th>     <td> </td>    \n",
       "</tr>\n",
       "<tr>\n",
       "  <th>Covariance Type:</th>      <td>nonrobust</td>    <th>                     </th>     <td> </td>    \n",
       "</tr>\n",
       "</table>\n",
       "<table class=\"simpletable\">\n",
       "<tr>\n",
       "                 <td></td>                    <th>coef</th>     <th>std err</th>      <th>t</th>      <th>P>|t|</th>  <th>[0.025</th>    <th>0.975]</th>  \n",
       "</tr>\n",
       "<tr>\n",
       "  <th>Intercept</th>                       <td>    8.0333</td> <td>    0.132</td> <td>   60.722</td> <td> 0.000</td> <td>    7.774</td> <td>    8.293</td>\n",
       "</tr>\n",
       "<tr>\n",
       "  <th>Country[T.Armenia]</th>              <td>   -3.0669</td> <td>    0.187</td> <td>  -16.386</td> <td> 0.000</td> <td>   -3.434</td> <td>   -2.700</td>\n",
       "</tr>\n",
       "<tr>\n",
       "  <th>Country[T.Australia]</th>            <td>    1.7092</td> <td>    0.181</td> <td>    9.466</td> <td> 0.000</td> <td>    1.355</td> <td>    2.063</td>\n",
       "</tr>\n",
       "<tr>\n",
       "  <th>Country[T.Austria]</th>              <td>    2.8284</td> <td>    0.180</td> <td>   15.674</td> <td> 0.000</td> <td>    2.475</td> <td>    3.182</td>\n",
       "</tr>\n",
       "<tr>\n",
       "  <th>Country[T.Azerbaijan]</th>           <td>   -3.3534</td> <td>    0.189</td> <td>  -17.762</td> <td> 0.000</td> <td>   -3.723</td> <td>   -2.983</td>\n",
       "</tr>\n",
       "<tr>\n",
       "  <th>Country[T.Bahrain]</th>              <td>   -1.4958</td> <td>    0.184</td> <td>   -8.118</td> <td> 0.000</td> <td>   -1.857</td> <td>   -1.135</td>\n",
       "</tr>\n",
       "<tr>\n",
       "  <th>Country[T.Benin]</th>                <td>   -6.1573</td> <td>    0.227</td> <td>  -27.084</td> <td> 0.000</td> <td>   -6.603</td> <td>   -5.712</td>\n",
       "</tr>\n",
       "<tr>\n",
       "  <th>Country[T.Brazil]</th>               <td>    1.9089</td> <td>    0.180</td> <td>   10.588</td> <td> 0.000</td> <td>    1.556</td> <td>    2.262</td>\n",
       "</tr>\n",
       "<tr>\n",
       "  <th>Country[T.Bulgaria]</th>             <td>-1.134e-13</td> <td> 4.72e-15</td> <td>  -24.024</td> <td> 0.000</td> <td>-1.23e-13</td> <td>-1.04e-13</td>\n",
       "</tr>\n",
       "<tr>\n",
       "  <th>Country[T.Burkina Faso]</th>         <td>   -5.8336</td> <td>    0.212</td> <td>  -27.553</td> <td> 0.000</td> <td>   -6.249</td> <td>   -5.419</td>\n",
       "</tr>\n",
       "<tr>\n",
       "  <th>Country[T.Burundi]</th>              <td>   -6.4823</td> <td>    0.271</td> <td>  -23.911</td> <td> 0.000</td> <td>   -7.014</td> <td>   -5.951</td>\n",
       "</tr>\n",
       "<tr>\n",
       "  <th>Country[T.Cameroon]</th>             <td>   -4.3849</td> <td>    0.194</td> <td>  -22.551</td> <td> 0.000</td> <td>   -4.766</td> <td>   -4.004</td>\n",
       "</tr>\n",
       "<tr>\n",
       "  <th>Country[T.Canada]</th>               <td> 2.308e-12</td> <td>  1.5e-13</td> <td>   15.426</td> <td> 0.000</td> <td> 2.01e-12</td> <td>  2.6e-12</td>\n",
       "</tr>\n",
       "<tr>\n",
       "  <th>Country[T.Chad]</th>                 <td>   -6.4982</td> <td>    0.261</td> <td>  -24.906</td> <td> 0.000</td> <td>   -7.010</td> <td>   -5.987</td>\n",
       "</tr>\n",
       "<tr>\n",
       "  <th>Country[T.Chile]</th>                <td>    0.0491</td> <td>    0.181</td> <td>    0.271</td> <td> 0.786</td> <td>   -0.306</td> <td>    0.404</td>\n",
       "</tr>\n",
       "<tr>\n",
       "  <th>Country[T.Colombia]</th>             <td>   -0.0941</td> <td>    0.181</td> <td>   -0.520</td> <td> 0.603</td> <td>   -0.449</td> <td>    0.261</td>\n",
       "</tr>\n",
       "<tr>\n",
       "  <th>Country[T.Congo]</th>                <td>   -5.0091</td> <td>    0.213</td> <td>  -23.500</td> <td> 0.000</td> <td>   -5.427</td> <td>   -4.591</td>\n",
       "</tr>\n",
       "<tr>\n",
       "  <th>Country[T.Costa Rica]</th>           <td>   -1.3434</td> <td>    0.182</td> <td>   -7.369</td> <td> 0.000</td> <td>   -1.701</td> <td>   -0.986</td>\n",
       "</tr>\n",
       "<tr>\n",
       "  <th>Country[T.Cote d'Ivoire]</th>        <td>   -2.5785</td> <td>    0.186</td> <td>  -13.873</td> <td> 0.000</td> <td>   -2.943</td> <td>   -2.214</td>\n",
       "</tr>\n",
       "<tr>\n",
       "  <th>Country[T.Croatia]</th>              <td>    0.5850</td> <td>    0.181</td> <td>    3.237</td> <td> 0.001</td> <td>    0.231</td> <td>    0.939</td>\n",
       "</tr>\n",
       "<tr>\n",
       "  <th>Country[T.Czech Republic]</th>       <td>    2.7765</td> <td>    0.180</td> <td>   15.404</td> <td> 0.000</td> <td>    2.423</td> <td>    3.130</td>\n",
       "</tr>\n",
       "<tr>\n",
       "  <th>Country[T.Denmark]</th>              <td>    2.2167</td> <td>    0.180</td> <td>   12.282</td> <td> 0.000</td> <td>    1.863</td> <td>    2.571</td>\n",
       "</tr>\n",
       "<tr>\n",
       "  <th>Country[T.Dominican Republic]</th>   <td>   -2.3407</td> <td>    0.186</td> <td>  -12.573</td> <td> 0.000</td> <td>   -2.706</td> <td>   -1.976</td>\n",
       "</tr>\n",
       "<tr>\n",
       "  <th>Country[T.Ecuador]</th>              <td>   -2.1676</td> <td>    0.184</td> <td>  -11.794</td> <td> 0.000</td> <td>   -2.528</td> <td>   -1.807</td>\n",
       "</tr>\n",
       "<tr>\n",
       "  <th>Country[T.Finland]</th>              <td>    1.2687</td> <td>    0.181</td> <td>    7.028</td> <td> 0.000</td> <td>    0.915</td> <td>    1.622</td>\n",
       "</tr>\n",
       "<tr>\n",
       "  <th>Country[T.France]</th>               <td> 3.731e-14</td> <td> 2.69e-15</td> <td>   13.882</td> <td> 0.000</td> <td>  3.2e-14</td> <td> 4.26e-14</td>\n",
       "</tr>\n",
       "<tr>\n",
       "  <th>Country[T.Georgia]</th>              <td>   -3.2015</td> <td>    0.186</td> <td>  -17.177</td> <td> 0.000</td> <td>   -3.567</td> <td>   -2.836</td>\n",
       "</tr>\n",
       "<tr>\n",
       "  <th>Country[T.Germany]</th>              <td>    5.0728</td> <td>    0.180</td> <td>   28.156</td> <td> 0.000</td> <td>    4.720</td> <td>    5.426</td>\n",
       "</tr>\n",
       "<tr>\n",
       "  <th>Country[T.Guatemala]</th>            <td>   -1.9135</td> <td>    0.184</td> <td>  -10.377</td> <td> 0.000</td> <td>   -2.275</td> <td>   -1.552</td>\n",
       "</tr>\n",
       "<tr>\n",
       "  <th>Country[T.Honduras]</th>             <td>   -2.6435</td> <td>    0.191</td> <td>  -13.866</td> <td> 0.000</td> <td>   -3.017</td> <td>   -2.270</td>\n",
       "</tr>\n",
       "<tr>\n",
       "  <th>Country[T.Hong Kong]</th>            <td>    1.7201</td> <td>    0.181</td> <td>    9.512</td> <td> 0.000</td> <td>    1.366</td> <td>    2.074</td>\n",
       "</tr>\n",
       "<tr>\n",
       "  <th>Country[T.Hungary]</th>              <td>    2.1174</td> <td>    0.181</td> <td>   11.706</td> <td> 0.000</td> <td>    1.763</td> <td>    2.472</td>\n",
       "</tr>\n",
       "<tr>\n",
       "  <th>Country[T.Indonesia]</th>            <td> -4.51e-14</td> <td> 2.88e-15</td> <td>  -15.670</td> <td> 0.000</td> <td>-5.07e-14</td> <td>-3.95e-14</td>\n",
       "</tr>\n",
       "<tr>\n",
       "  <th>Country[T.Iran]</th>                 <td>   -1.7638</td> <td>    0.182</td> <td>   -9.692</td> <td> 0.000</td> <td>   -2.121</td> <td>   -1.407</td>\n",
       "</tr>\n",
       "<tr>\n",
       "  <th>Country[T.Ireland]</th>              <td>    1.2380</td> <td>    0.181</td> <td>    6.848</td> <td> 0.000</td> <td>    0.884</td> <td>    1.592</td>\n",
       "</tr>\n",
       "<tr>\n",
       "  <th>Country[T.Israel]</th>               <td>-1.307e-13</td> <td> 8.03e-15</td> <td>  -16.274</td> <td> 0.000</td> <td>-1.46e-13</td> <td>-1.15e-13</td>\n",
       "</tr>\n",
       "<tr>\n",
       "  <th>Country[T.Italy]</th>                <td>    4.1473</td> <td>    0.180</td> <td>   23.022</td> <td> 0.000</td> <td>    3.794</td> <td>    4.500</td>\n",
       "</tr>\n",
       "<tr>\n",
       "  <th>Country[T.Japan]</th>                <td>    3.0394</td> <td>    0.180</td> <td>   16.840</td> <td> 0.000</td> <td>    2.686</td> <td>    3.393</td>\n",
       "</tr>\n",
       "<tr>\n",
       "  <th>Country[T.Kazakhstan]</th>           <td>   -1.1015</td> <td>    0.181</td> <td>   -6.077</td> <td> 0.000</td> <td>   -1.457</td> <td>   -0.746</td>\n",
       "</tr>\n",
       "<tr>\n",
       "  <th>Country[T.Kuwait]</th>               <td>   -1.6856</td> <td>    0.183</td> <td>   -9.233</td> <td> 0.000</td> <td>   -2.043</td> <td>   -1.328</td>\n",
       "</tr>\n",
       "<tr>\n",
       "  <th>Country[T.Lithuania]</th>            <td>    1.0578</td> <td>    0.180</td> <td>    5.860</td> <td> 0.000</td> <td>    0.704</td> <td>    1.412</td>\n",
       "</tr>\n",
       "<tr>\n",
       "  <th>Country[T.Malta]</th>                <td>   -2.4298</td> <td>    0.185</td> <td>  -13.157</td> <td> 0.000</td> <td>   -2.792</td> <td>   -2.068</td>\n",
       "</tr>\n",
       "<tr>\n",
       "  <th>Country[T.Mexico]</th>               <td>    2.9274</td> <td>    0.181</td> <td>   16.200</td> <td> 0.000</td> <td>    2.573</td> <td>    3.282</td>\n",
       "</tr>\n",
       "<tr>\n",
       "  <th>Country[T.Morocco]</th>              <td>   -0.3322</td> <td>    0.181</td> <td>   -1.832</td> <td> 0.067</td> <td>   -0.688</td> <td>    0.023</td>\n",
       "</tr>\n",
       "<tr>\n",
       "  <th>Country[T.Netherlands]</th>          <td>    3.8687</td> <td>    0.180</td> <td>   21.470</td> <td> 0.000</td> <td>    3.516</td> <td>    4.222</td>\n",
       "</tr>\n",
       "<tr>\n",
       "  <th>Country[T.New Zealand]</th>          <td>    0.1091</td> <td>    0.181</td> <td>    0.603</td> <td> 0.546</td> <td>   -0.246</td> <td>    0.464</td>\n",
       "</tr>\n",
       "<tr>\n",
       "  <th>Country[T.Nicaragua]</th>            <td>   -3.1005</td> <td>    0.187</td> <td>  -16.541</td> <td> 0.000</td> <td>   -3.468</td> <td>   -2.733</td>\n",
       "</tr>\n",
       "<tr>\n",
       "  <th>Country[T.Niger]</th>                <td>   -5.8551</td> <td>    0.211</td> <td>  -27.718</td> <td> 0.000</td> <td>   -6.269</td> <td>   -5.441</td>\n",
       "</tr>\n",
       "<tr>\n",
       "  <th>Country[T.Norway]</th>               <td>    0.6275</td> <td>    0.181</td> <td>    3.470</td> <td> 0.001</td> <td>    0.273</td> <td>    0.982</td>\n",
       "</tr>\n",
       "<tr>\n",
       "  <th>Country[T.Oman]</th>                 <td>   -0.5738</td> <td>    0.182</td> <td>   -3.157</td> <td> 0.002</td> <td>   -0.930</td> <td>   -0.218</td>\n",
       "</tr>\n",
       "<tr>\n",
       "  <th>Country[T.Panama]</th>               <td>   -2.6577</td> <td>    0.185</td> <td>  -14.384</td> <td> 0.000</td> <td>   -3.020</td> <td>   -2.296</td>\n",
       "</tr>\n",
       "<tr>\n",
       "  <th>Country[T.Paraguay]</th>             <td>   -3.0608</td> <td>    0.188</td> <td>  -16.247</td> <td> 0.000</td> <td>   -3.430</td> <td>   -2.691</td>\n",
       "</tr>\n",
       "<tr>\n",
       "  <th>Country[T.Peru]</th>                 <td>   -0.5313</td> <td>    0.181</td> <td>   -2.937</td> <td> 0.003</td> <td>   -0.886</td> <td>   -0.177</td>\n",
       "</tr>\n",
       "<tr>\n",
       "  <th>Country[T.Poland]</th>               <td>    3.4021</td> <td>    0.180</td> <td>   18.856</td> <td> 0.000</td> <td>    3.048</td> <td>    3.756</td>\n",
       "</tr>\n",
       "<tr>\n",
       "  <th>Country[T.Portugal]</th>             <td>    2.0368</td> <td>    0.181</td> <td>   11.273</td> <td> 0.000</td> <td>    1.683</td> <td>    2.391</td>\n",
       "</tr>\n",
       "<tr>\n",
       "  <th>Country[T.Qatar]</th>                <td>   -2.7929</td> <td>    0.186</td> <td>  -15.027</td> <td> 0.000</td> <td>   -3.157</td> <td>   -2.429</td>\n",
       "</tr>\n",
       "<tr>\n",
       "  <th>Country[T.Romania]</th>              <td>    1.8068</td> <td>    0.181</td> <td>   10.002</td> <td> 0.000</td> <td>    1.453</td> <td>    2.161</td>\n",
       "</tr>\n",
       "<tr>\n",
       "  <th>Country[T.Russia]</th>               <td>    2.2668</td> <td>    0.180</td> <td>   12.573</td> <td> 0.000</td> <td>    1.913</td> <td>    2.620</td>\n",
       "</tr>\n",
       "<tr>\n",
       "  <th>Country[T.Saudi Arabia]</th>         <td>   -0.6404</td> <td>    0.182</td> <td>   -3.515</td> <td> 0.000</td> <td>   -0.997</td> <td>   -0.283</td>\n",
       "</tr>\n",
       "<tr>\n",
       "  <th>Country[T.Senegal]</th>              <td>   -4.5869</td> <td>    0.195</td> <td>  -23.570</td> <td> 0.000</td> <td>   -4.968</td> <td>   -4.205</td>\n",
       "</tr>\n",
       "<tr>\n",
       "  <th>Country[T.Singapore]</th>            <td>    1.9442</td> <td>    0.181</td> <td>   10.763</td> <td> 0.000</td> <td>    1.590</td> <td>    2.298</td>\n",
       "</tr>\n",
       "<tr>\n",
       "  <th>Country[T.Slovak Republic]</th>      <td>    1.6939</td> <td>    0.181</td> <td>    9.376</td> <td> 0.000</td> <td>    1.340</td> <td>    2.048</td>\n",
       "</tr>\n",
       "<tr>\n",
       "  <th>Country[T.Slovenia]</th>             <td>    1.1051</td> <td>    0.181</td> <td>    6.114</td> <td> 0.000</td> <td>    0.751</td> <td>    1.459</td>\n",
       "</tr>\n",
       "<tr>\n",
       "  <th>Country[T.South Africa]</th>         <td>-3.542e-16</td> <td> 2.12e-16</td> <td>   -1.675</td> <td> 0.094</td> <td>-7.69e-16</td> <td> 6.04e-17</td>\n",
       "</tr>\n",
       "<tr>\n",
       "  <th>Country[T.South Korea]</th>          <td>    2.9430</td> <td>    0.181</td> <td>   16.294</td> <td> 0.000</td> <td>    2.589</td> <td>    3.297</td>\n",
       "</tr>\n",
       "<tr>\n",
       "  <th>Country[T.Spain]</th>                <td>    3.6594</td> <td>    0.180</td> <td>   20.317</td> <td> 0.000</td> <td>    3.306</td> <td>    4.012</td>\n",
       "</tr>\n",
       "<tr>\n",
       "  <th>Country[T.Sweden]</th>               <td>    2.4209</td> <td>    0.180</td> <td>   13.432</td> <td> 0.000</td> <td>    2.068</td> <td>    2.774</td>\n",
       "</tr>\n",
       "<tr>\n",
       "  <th>Country[T.Thailand]</th>             <td>    2.7810</td> <td>    0.180</td> <td>   15.424</td> <td> 0.000</td> <td>    2.428</td> <td>    3.134</td>\n",
       "</tr>\n",
       "<tr>\n",
       "  <th>Country[T.Togo]</th>                 <td>   -5.1645</td> <td>    0.204</td> <td>  -25.276</td> <td> 0.000</td> <td>   -5.565</td> <td>   -4.764</td>\n",
       "</tr>\n",
       "<tr>\n",
       "  <th>Country[T.Trinidad and Tobago]</th>  <td>-2.967e-17</td> <td> 3.16e-17</td> <td>   -0.939</td> <td> 0.348</td> <td>-9.16e-17</td> <td> 3.23e-17</td>\n",
       "</tr>\n",
       "<tr>\n",
       "  <th>Country[T.Tunisia]</th>              <td>   -0.7826</td> <td>    0.184</td> <td>   -4.255</td> <td> 0.000</td> <td>   -1.143</td> <td>   -0.422</td>\n",
       "</tr>\n",
       "<tr>\n",
       "  <th>Country[T.Turkey]</th>               <td>    2.6449</td> <td>    0.180</td> <td>   14.676</td> <td> 0.000</td> <td>    2.292</td> <td>    2.998</td>\n",
       "</tr>\n",
       "<tr>\n",
       "  <th>Country[T.U.A.E.]</th>               <td>    2.3221</td> <td>    0.180</td> <td>   12.872</td> <td> 0.000</td> <td>    1.968</td> <td>    2.676</td>\n",
       "</tr>\n",
       "<tr>\n",
       "  <th>Country[T.United States]</th>        <td>    4.7394</td> <td>    0.180</td> <td>   26.302</td> <td> 0.000</td> <td>    4.386</td> <td>    5.093</td>\n",
       "</tr>\n",
       "<tr>\n",
       "  <th>Country[T.Uruguay]</th>              <td>   -2.5089</td> <td>    0.185</td> <td>  -13.563</td> <td> 0.000</td> <td>   -2.872</td> <td>   -2.146</td>\n",
       "</tr>\n",
       "<tr>\n",
       "  <th>Country[T.Yemen]</th>                <td>   -5.7455</td> <td>    0.233</td> <td>  -24.683</td> <td> 0.000</td> <td>   -6.202</td> <td>   -5.289</td>\n",
       "</tr>\n",
       "<tr>\n",
       "  <th>Country[T.Yugoslavia]</th>           <td>    0.5745</td> <td>    0.181</td> <td>    3.178</td> <td> 0.001</td> <td>    0.220</td> <td>    0.929</td>\n",
       "</tr>\n",
       "<tr>\n",
       "  <th>MEDIAN_TIMSSDIV1000:PORTION_CLG</th> <td>    0.1847</td> <td>    0.065</td> <td>    2.854</td> <td> 0.004</td> <td>    0.058</td> <td>    0.312</td>\n",
       "</tr>\n",
       "<tr>\n",
       "  <th>ind1990ddx</th>                      <td>    0.0010</td> <td>    0.000</td> <td>    5.875</td> <td> 0.000</td> <td>    0.001</td> <td>    0.001</td>\n",
       "</tr>\n",
       "</table>\n",
       "<table class=\"simpletable\">\n",
       "<tr>\n",
       "  <th>Omnibus:</th>       <td>1201.907</td> <th>  Durbin-Watson:     </th> <td>   1.523</td>\n",
       "</tr>\n",
       "<tr>\n",
       "  <th>Prob(Omnibus):</th>  <td> 0.000</td>  <th>  Jarque-Bera (JB):  </th> <td>2670.586</td>\n",
       "</tr>\n",
       "<tr>\n",
       "  <th>Skew:</th>           <td>-0.284</td>  <th>  Prob(JB):          </th> <td>    0.00</td>\n",
       "</tr>\n",
       "<tr>\n",
       "  <th>Kurtosis:</th>       <td> 4.417</td>  <th>  Cond. No.          </th> <td>9.95e+19</td>\n",
       "</tr>\n",
       "</table><br/><br/>Notes:<br/>[1] Standard Errors assume that the covariance matrix of the errors is correctly specified.<br/>[2] The smallest eigenvalue is 1.72e-31. This might indicate that there are<br/>strong multicollinearity problems or that the design matrix is singular."
      ],
      "text/plain": [
       "<class 'statsmodels.iolib.summary.Summary'>\n",
       "\"\"\"\n",
       "                            OLS Regression Results                            \n",
       "==============================================================================\n",
       "Dep. Variable:          log_tradeflow   R-squared:                       0.521\n",
       "Model:                            OLS   Adj. R-squared:                  0.520\n",
       "Method:                 Least Squares   F-statistic:                     420.0\n",
       "Date:                Mon, 28 Dec 2020   Prob (F-statistic):               0.00\n",
       "Time:                        20:14:39   Log-Likelihood:                -65757.\n",
       "No. Observations:               27490   AIC:                         1.317e+05\n",
       "Df Residuals:                   27418   BIC:                         1.322e+05\n",
       "Df Model:                          71                                         \n",
       "Covariance Type:            nonrobust                                         \n",
       "===================================================================================================\n",
       "                                      coef    std err          t      P>|t|      [0.025      0.975]\n",
       "---------------------------------------------------------------------------------------------------\n",
       "Intercept                           8.0333      0.132     60.722      0.000       7.774       8.293\n",
       "Country[T.Armenia]                 -3.0669      0.187    -16.386      0.000      -3.434      -2.700\n",
       "Country[T.Australia]                1.7092      0.181      9.466      0.000       1.355       2.063\n",
       "Country[T.Austria]                  2.8284      0.180     15.674      0.000       2.475       3.182\n",
       "Country[T.Azerbaijan]              -3.3534      0.189    -17.762      0.000      -3.723      -2.983\n",
       "Country[T.Bahrain]                 -1.4958      0.184     -8.118      0.000      -1.857      -1.135\n",
       "Country[T.Benin]                   -6.1573      0.227    -27.084      0.000      -6.603      -5.712\n",
       "Country[T.Brazil]                   1.9089      0.180     10.588      0.000       1.556       2.262\n",
       "Country[T.Bulgaria]             -1.134e-13   4.72e-15    -24.024      0.000   -1.23e-13   -1.04e-13\n",
       "Country[T.Burkina Faso]            -5.8336      0.212    -27.553      0.000      -6.249      -5.419\n",
       "Country[T.Burundi]                 -6.4823      0.271    -23.911      0.000      -7.014      -5.951\n",
       "Country[T.Cameroon]                -4.3849      0.194    -22.551      0.000      -4.766      -4.004\n",
       "Country[T.Canada]                2.308e-12    1.5e-13     15.426      0.000    2.01e-12     2.6e-12\n",
       "Country[T.Chad]                    -6.4982      0.261    -24.906      0.000      -7.010      -5.987\n",
       "Country[T.Chile]                    0.0491      0.181      0.271      0.786      -0.306       0.404\n",
       "Country[T.Colombia]                -0.0941      0.181     -0.520      0.603      -0.449       0.261\n",
       "Country[T.Congo]                   -5.0091      0.213    -23.500      0.000      -5.427      -4.591\n",
       "Country[T.Costa Rica]              -1.3434      0.182     -7.369      0.000      -1.701      -0.986\n",
       "Country[T.Cote d'Ivoire]           -2.5785      0.186    -13.873      0.000      -2.943      -2.214\n",
       "Country[T.Croatia]                  0.5850      0.181      3.237      0.001       0.231       0.939\n",
       "Country[T.Czech Republic]           2.7765      0.180     15.404      0.000       2.423       3.130\n",
       "Country[T.Denmark]                  2.2167      0.180     12.282      0.000       1.863       2.571\n",
       "Country[T.Dominican Republic]      -2.3407      0.186    -12.573      0.000      -2.706      -1.976\n",
       "Country[T.Ecuador]                 -2.1676      0.184    -11.794      0.000      -2.528      -1.807\n",
       "Country[T.Finland]                  1.2687      0.181      7.028      0.000       0.915       1.622\n",
       "Country[T.France]                3.731e-14   2.69e-15     13.882      0.000     3.2e-14    4.26e-14\n",
       "Country[T.Georgia]                 -3.2015      0.186    -17.177      0.000      -3.567      -2.836\n",
       "Country[T.Germany]                  5.0728      0.180     28.156      0.000       4.720       5.426\n",
       "Country[T.Guatemala]               -1.9135      0.184    -10.377      0.000      -2.275      -1.552\n",
       "Country[T.Honduras]                -2.6435      0.191    -13.866      0.000      -3.017      -2.270\n",
       "Country[T.Hong Kong]                1.7201      0.181      9.512      0.000       1.366       2.074\n",
       "Country[T.Hungary]                  2.1174      0.181     11.706      0.000       1.763       2.472\n",
       "Country[T.Indonesia]             -4.51e-14   2.88e-15    -15.670      0.000   -5.07e-14   -3.95e-14\n",
       "Country[T.Iran]                    -1.7638      0.182     -9.692      0.000      -2.121      -1.407\n",
       "Country[T.Ireland]                  1.2380      0.181      6.848      0.000       0.884       1.592\n",
       "Country[T.Israel]               -1.307e-13   8.03e-15    -16.274      0.000   -1.46e-13   -1.15e-13\n",
       "Country[T.Italy]                    4.1473      0.180     23.022      0.000       3.794       4.500\n",
       "Country[T.Japan]                    3.0394      0.180     16.840      0.000       2.686       3.393\n",
       "Country[T.Kazakhstan]              -1.1015      0.181     -6.077      0.000      -1.457      -0.746\n",
       "Country[T.Kuwait]                  -1.6856      0.183     -9.233      0.000      -2.043      -1.328\n",
       "Country[T.Lithuania]                1.0578      0.180      5.860      0.000       0.704       1.412\n",
       "Country[T.Malta]                   -2.4298      0.185    -13.157      0.000      -2.792      -2.068\n",
       "Country[T.Mexico]                   2.9274      0.181     16.200      0.000       2.573       3.282\n",
       "Country[T.Morocco]                 -0.3322      0.181     -1.832      0.067      -0.688       0.023\n",
       "Country[T.Netherlands]              3.8687      0.180     21.470      0.000       3.516       4.222\n",
       "Country[T.New Zealand]              0.1091      0.181      0.603      0.546      -0.246       0.464\n",
       "Country[T.Nicaragua]               -3.1005      0.187    -16.541      0.000      -3.468      -2.733\n",
       "Country[T.Niger]                   -5.8551      0.211    -27.718      0.000      -6.269      -5.441\n",
       "Country[T.Norway]                   0.6275      0.181      3.470      0.001       0.273       0.982\n",
       "Country[T.Oman]                    -0.5738      0.182     -3.157      0.002      -0.930      -0.218\n",
       "Country[T.Panama]                  -2.6577      0.185    -14.384      0.000      -3.020      -2.296\n",
       "Country[T.Paraguay]                -3.0608      0.188    -16.247      0.000      -3.430      -2.691\n",
       "Country[T.Peru]                    -0.5313      0.181     -2.937      0.003      -0.886      -0.177\n",
       "Country[T.Poland]                   3.4021      0.180     18.856      0.000       3.048       3.756\n",
       "Country[T.Portugal]                 2.0368      0.181     11.273      0.000       1.683       2.391\n",
       "Country[T.Qatar]                   -2.7929      0.186    -15.027      0.000      -3.157      -2.429\n",
       "Country[T.Romania]                  1.8068      0.181     10.002      0.000       1.453       2.161\n",
       "Country[T.Russia]                   2.2668      0.180     12.573      0.000       1.913       2.620\n",
       "Country[T.Saudi Arabia]            -0.6404      0.182     -3.515      0.000      -0.997      -0.283\n",
       "Country[T.Senegal]                 -4.5869      0.195    -23.570      0.000      -4.968      -4.205\n",
       "Country[T.Singapore]                1.9442      0.181     10.763      0.000       1.590       2.298\n",
       "Country[T.Slovak Republic]          1.6939      0.181      9.376      0.000       1.340       2.048\n",
       "Country[T.Slovenia]                 1.1051      0.181      6.114      0.000       0.751       1.459\n",
       "Country[T.South Africa]         -3.542e-16   2.12e-16     -1.675      0.094   -7.69e-16    6.04e-17\n",
       "Country[T.South Korea]              2.9430      0.181     16.294      0.000       2.589       3.297\n",
       "Country[T.Spain]                    3.6594      0.180     20.317      0.000       3.306       4.012\n",
       "Country[T.Sweden]                   2.4209      0.180     13.432      0.000       2.068       2.774\n",
       "Country[T.Thailand]                 2.7810      0.180     15.424      0.000       2.428       3.134\n",
       "Country[T.Togo]                    -5.1645      0.204    -25.276      0.000      -5.565      -4.764\n",
       "Country[T.Trinidad and Tobago]  -2.967e-17   3.16e-17     -0.939      0.348   -9.16e-17    3.23e-17\n",
       "Country[T.Tunisia]                 -0.7826      0.184     -4.255      0.000      -1.143      -0.422\n",
       "Country[T.Turkey]                   2.6449      0.180     14.676      0.000       2.292       2.998\n",
       "Country[T.U.A.E.]                   2.3221      0.180     12.872      0.000       1.968       2.676\n",
       "Country[T.United States]            4.7394      0.180     26.302      0.000       4.386       5.093\n",
       "Country[T.Uruguay]                 -2.5089      0.185    -13.563      0.000      -2.872      -2.146\n",
       "Country[T.Yemen]                   -5.7455      0.233    -24.683      0.000      -6.202      -5.289\n",
       "Country[T.Yugoslavia]               0.5745      0.181      3.178      0.001       0.220       0.929\n",
       "MEDIAN_TIMSSDIV1000:PORTION_CLG     0.1847      0.065      2.854      0.004       0.058       0.312\n",
       "ind1990ddx                          0.0010      0.000      5.875      0.000       0.001       0.001\n",
       "==============================================================================\n",
       "Omnibus:                     1201.907   Durbin-Watson:                   1.523\n",
       "Prob(Omnibus):                  0.000   Jarque-Bera (JB):             2670.586\n",
       "Skew:                          -0.284   Prob(JB):                         0.00\n",
       "Kurtosis:                       4.417   Cond. No.                     9.95e+19\n",
       "==============================================================================\n",
       "\n",
       "Notes:\n",
       "[1] Standard Errors assume that the covariance matrix of the errors is correctly specified.\n",
       "[2] The smallest eigenvalue is 1.72e-31. This might indicate that there are\n",
       "strong multicollinearity problems or that the design matrix is singular.\n",
       "\"\"\""
      ]
     },
     "execution_count": 74,
     "metadata": {},
     "output_type": "execute_result"
    }
   ],
   "source": [
    "exports_1_res.summary()"
   ]
  },
  {
   "cell_type": "markdown",
   "metadata": {},
   "source": [
    "$$ \\log(V_{ci}) \\sim \\mathrm{PIRLS}_{c}/1000:\\mathrm{college}_i + i + c $$"
   ]
  },
  {
   "cell_type": "code",
   "execution_count": 75,
   "metadata": {},
   "outputs": [
    {
     "data": {
      "text/plain": [
       "Intercept                          8.073687e+00\n",
       "Country[T.Armenia]                 2.357020e-13\n",
       "Country[T.Australia]               1.710753e+00\n",
       "Country[T.Austria]                 2.828927e+00\n",
       "Country[T.Azerbaijan]             -3.349049e+00\n",
       "                                       ...     \n",
       "Country[T.Uruguay]                -2.508308e+00\n",
       "Country[T.Yemen]                   0.000000e+00\n",
       "Country[T.Yugoslavia]              0.000000e+00\n",
       "MEDIAN_PIRLSDIV1000:PORTION_CLG    1.826796e-01\n",
       "ind1990ddx                         8.038734e-04\n",
       "Length: 79, dtype: float64"
      ]
     },
     "execution_count": 75,
     "metadata": {},
     "output_type": "execute_result"
    }
   ],
   "source": [
    "mod = smf.ols('log_tradeflow ~ MEDIAN_PIRLSDIV1000: PORTION_CLG + ind1990ddx + Country', data=exports)\n",
    "exports_1_res = mod.fit()\n",
    "exports_1_res.params"
   ]
  },
  {
   "cell_type": "markdown",
   "metadata": {},
   "source": [
    "**R-squared is 0.528 and Intercept 8.073687**"
   ]
  },
  {
   "cell_type": "code",
   "execution_count": 76,
   "metadata": {},
   "outputs": [
    {
     "data": {
      "text/html": [
       "<table class=\"simpletable\">\n",
       "<caption>OLS Regression Results</caption>\n",
       "<tr>\n",
       "  <th>Dep. Variable:</th>      <td>log_tradeflow</td>  <th>  R-squared:         </th> <td>   0.528</td> \n",
       "</tr>\n",
       "<tr>\n",
       "  <th>Model:</th>                   <td>OLS</td>       <th>  Adj. R-squared:    </th> <td>   0.527</td> \n",
       "</tr>\n",
       "<tr>\n",
       "  <th>Method:</th>             <td>Least Squares</td>  <th>  F-statistic:       </th> <td>   433.0</td> \n",
       "</tr>\n",
       "<tr>\n",
       "  <th>Date:</th>             <td>Mon, 28 Dec 2020</td> <th>  Prob (F-statistic):</th>  <td>  0.00</td>  \n",
       "</tr>\n",
       "<tr>\n",
       "  <th>Time:</th>                 <td>20:14:39</td>     <th>  Log-Likelihood:    </th> <td> -62965.</td> \n",
       "</tr>\n",
       "<tr>\n",
       "  <th>No. Observations:</th>      <td> 26401</td>      <th>  AIC:               </th> <td>1.261e+05</td>\n",
       "</tr>\n",
       "<tr>\n",
       "  <th>Df Residuals:</th>          <td> 26332</td>      <th>  BIC:               </th> <td>1.266e+05</td>\n",
       "</tr>\n",
       "<tr>\n",
       "  <th>Df Model:</th>              <td>    68</td>      <th>                     </th>     <td> </td>    \n",
       "</tr>\n",
       "<tr>\n",
       "  <th>Covariance Type:</th>      <td>nonrobust</td>    <th>                     </th>     <td> </td>    \n",
       "</tr>\n",
       "</table>\n",
       "<table class=\"simpletable\">\n",
       "<tr>\n",
       "                 <td></td>                    <th>coef</th>     <th>std err</th>      <th>t</th>      <th>P>|t|</th>  <th>[0.025</th>    <th>0.975]</th>  \n",
       "</tr>\n",
       "<tr>\n",
       "  <th>Intercept</th>                       <td>    8.0737</td> <td>    0.132</td> <td>   61.380</td> <td> 0.000</td> <td>    7.816</td> <td>    8.332</td>\n",
       "</tr>\n",
       "<tr>\n",
       "  <th>Country[T.Armenia]</th>              <td> 2.357e-13</td> <td> 1.08e-13</td> <td>    2.189</td> <td> 0.029</td> <td> 2.46e-14</td> <td> 4.47e-13</td>\n",
       "</tr>\n",
       "<tr>\n",
       "  <th>Country[T.Australia]</th>            <td>    1.7108</td> <td>    0.179</td> <td>    9.543</td> <td> 0.000</td> <td>    1.359</td> <td>    2.062</td>\n",
       "</tr>\n",
       "<tr>\n",
       "  <th>Country[T.Austria]</th>              <td>    2.8289</td> <td>    0.179</td> <td>   15.789</td> <td> 0.000</td> <td>    2.478</td> <td>    3.180</td>\n",
       "</tr>\n",
       "<tr>\n",
       "  <th>Country[T.Azerbaijan]</th>           <td>   -3.3490</td> <td>    0.187</td> <td>  -17.867</td> <td> 0.000</td> <td>   -3.716</td> <td>   -2.982</td>\n",
       "</tr>\n",
       "<tr>\n",
       "  <th>Country[T.Bahrain]</th>              <td>-1.068e-14</td> <td> 1.47e-15</td> <td>   -7.255</td> <td> 0.000</td> <td>-1.36e-14</td> <td> -7.8e-15</td>\n",
       "</tr>\n",
       "<tr>\n",
       "  <th>Country[T.Benin]</th>                <td>   -6.1520</td> <td>    0.226</td> <td>  -27.253</td> <td> 0.000</td> <td>   -6.594</td> <td>   -5.710</td>\n",
       "</tr>\n",
       "<tr>\n",
       "  <th>Country[T.Brazil]</th>               <td>    1.9076</td> <td>    0.179</td> <td>   10.656</td> <td> 0.000</td> <td>    1.557</td> <td>    2.259</td>\n",
       "</tr>\n",
       "<tr>\n",
       "  <th>Country[T.Bulgaria]</th>             <td>    1.1290</td> <td>    0.179</td> <td>    6.301</td> <td> 0.000</td> <td>    0.778</td> <td>    1.480</td>\n",
       "</tr>\n",
       "<tr>\n",
       "  <th>Country[T.Burkina Faso]</th>         <td>   -5.8243</td> <td>    0.210</td> <td>  -27.704</td> <td> 0.000</td> <td>   -6.236</td> <td>   -5.412</td>\n",
       "</tr>\n",
       "<tr>\n",
       "  <th>Country[T.Burundi]</th>              <td>   -6.4658</td> <td>    0.269</td> <td>  -24.023</td> <td> 0.000</td> <td>   -6.993</td> <td>   -5.938</td>\n",
       "</tr>\n",
       "<tr>\n",
       "  <th>Country[T.Cameroon]</th>             <td>   -4.3820</td> <td>    0.193</td> <td>  -22.696</td> <td> 0.000</td> <td>   -4.760</td> <td>   -4.004</td>\n",
       "</tr>\n",
       "<tr>\n",
       "  <th>Country[T.Canada]</th>               <td>    3.1438</td> <td>    0.179</td> <td>   17.574</td> <td> 0.000</td> <td>    2.793</td> <td>    3.494</td>\n",
       "</tr>\n",
       "<tr>\n",
       "  <th>Country[T.Chad]</th>                 <td>   -6.4858</td> <td>    0.259</td> <td>  -25.033</td> <td> 0.000</td> <td>   -6.994</td> <td>   -5.978</td>\n",
       "</tr>\n",
       "<tr>\n",
       "  <th>Country[T.Chile]</th>                <td>    0.0464</td> <td>    0.180</td> <td>    0.258</td> <td> 0.796</td> <td>   -0.306</td> <td>    0.399</td>\n",
       "</tr>\n",
       "<tr>\n",
       "  <th>Country[T.Colombia]</th>             <td>   -0.0983</td> <td>    0.180</td> <td>   -0.547</td> <td> 0.584</td> <td>   -0.451</td> <td>    0.254</td>\n",
       "</tr>\n",
       "<tr>\n",
       "  <th>Country[T.Congo]</th>                <td>   -5.0035</td> <td>    0.212</td> <td>  -23.639</td> <td> 0.000</td> <td>   -5.418</td> <td>   -4.589</td>\n",
       "</tr>\n",
       "<tr>\n",
       "  <th>Country[T.Costa Rica]</th>           <td>   -1.3464</td> <td>    0.181</td> <td>   -7.437</td> <td> 0.000</td> <td>   -1.701</td> <td>   -0.992</td>\n",
       "</tr>\n",
       "<tr>\n",
       "  <th>Country[T.Cote d'Ivoire]</th>        <td>   -2.5784</td> <td>    0.185</td> <td>  -13.971</td> <td> 0.000</td> <td>   -2.940</td> <td>   -2.217</td>\n",
       "</tr>\n",
       "<tr>\n",
       "  <th>Country[T.Croatia]</th>              <td>    0.5801</td> <td>    0.180</td> <td>    3.232</td> <td> 0.001</td> <td>    0.228</td> <td>    0.932</td>\n",
       "</tr>\n",
       "<tr>\n",
       "  <th>Country[T.Czech Republic]</th>       <td>    2.7751</td> <td>    0.179</td> <td>   15.504</td> <td> 0.000</td> <td>    2.424</td> <td>    3.126</td>\n",
       "</tr>\n",
       "<tr>\n",
       "  <th>Country[T.Denmark]</th>              <td>    2.2179</td> <td>    0.179</td> <td>   12.376</td> <td> 0.000</td> <td>    1.867</td> <td>    2.569</td>\n",
       "</tr>\n",
       "<tr>\n",
       "  <th>Country[T.Dominican Republic]</th>   <td>   -2.3442</td> <td>    0.185</td> <td>  -12.683</td> <td> 0.000</td> <td>   -2.706</td> <td>   -1.982</td>\n",
       "</tr>\n",
       "<tr>\n",
       "  <th>Country[T.Ecuador]</th>              <td>   -2.1695</td> <td>    0.182</td> <td>  -11.888</td> <td> 0.000</td> <td>   -2.527</td> <td>   -1.812</td>\n",
       "</tr>\n",
       "<tr>\n",
       "  <th>Country[T.Finland]</th>              <td>    1.2692</td> <td>    0.179</td> <td>    7.081</td> <td> 0.000</td> <td>    0.918</td> <td>    1.620</td>\n",
       "</tr>\n",
       "<tr>\n",
       "  <th>Country[T.France]</th>               <td>    4.0612</td> <td>    0.179</td> <td>   22.706</td> <td> 0.000</td> <td>    3.711</td> <td>    4.412</td>\n",
       "</tr>\n",
       "<tr>\n",
       "  <th>Country[T.Georgia]</th>              <td>   -3.2023</td> <td>    0.185</td> <td>  -17.303</td> <td> 0.000</td> <td>   -3.565</td> <td>   -2.840</td>\n",
       "</tr>\n",
       "<tr>\n",
       "  <th>Country[T.Germany]</th>              <td>    5.0742</td> <td>    0.179</td> <td>   28.367</td> <td> 0.000</td> <td>    4.724</td> <td>    5.425</td>\n",
       "</tr>\n",
       "<tr>\n",
       "  <th>Country[T.Guatemala]</th>            <td>   -1.9193</td> <td>    0.183</td> <td>  -10.483</td> <td> 0.000</td> <td>   -2.278</td> <td>   -1.560</td>\n",
       "</tr>\n",
       "<tr>\n",
       "  <th>Country[T.Honduras]</th>             <td>   -2.6462</td> <td>    0.189</td> <td>  -13.979</td> <td> 0.000</td> <td>   -3.017</td> <td>   -2.275</td>\n",
       "</tr>\n",
       "<tr>\n",
       "  <th>Country[T.Hong Kong]</th>            <td>    1.7278</td> <td>    0.179</td> <td>    9.629</td> <td> 0.000</td> <td>    1.376</td> <td>    2.080</td>\n",
       "</tr>\n",
       "<tr>\n",
       "  <th>Country[T.Hungary]</th>              <td>    2.1182</td> <td>    0.180</td> <td>   11.794</td> <td> 0.000</td> <td>    1.766</td> <td>    2.470</td>\n",
       "</tr>\n",
       "<tr>\n",
       "  <th>Country[T.Indonesia]</th>            <td>    2.0047</td> <td>    0.179</td> <td>   11.199</td> <td> 0.000</td> <td>    1.654</td> <td>    2.356</td>\n",
       "</tr>\n",
       "<tr>\n",
       "  <th>Country[T.Iran]</th>                 <td>   -1.7645</td> <td>    0.181</td> <td>   -9.765</td> <td> 0.000</td> <td>   -2.119</td> <td>   -1.410</td>\n",
       "</tr>\n",
       "<tr>\n",
       "  <th>Country[T.Ireland]</th>              <td>    1.2387</td> <td>    0.180</td> <td>    6.901</td> <td> 0.000</td> <td>    0.887</td> <td>    1.591</td>\n",
       "</tr>\n",
       "<tr>\n",
       "  <th>Country[T.Israel]</th>               <td>    0.3082</td> <td>    0.180</td> <td>    1.713</td> <td> 0.087</td> <td>   -0.044</td> <td>    0.661</td>\n",
       "</tr>\n",
       "<tr>\n",
       "  <th>Country[T.Italy]</th>                <td>    4.1461</td> <td>    0.179</td> <td>   23.178</td> <td> 0.000</td> <td>    3.795</td> <td>    4.497</td>\n",
       "</tr>\n",
       "<tr>\n",
       "  <th>Country[T.Japan]</th>                <td>-3.534e-16</td> <td> 8.48e-17</td> <td>   -4.168</td> <td> 0.000</td> <td> -5.2e-16</td> <td>-1.87e-16</td>\n",
       "</tr>\n",
       "<tr>\n",
       "  <th>Country[T.Kazakhstan]</th>           <td> 1.072e-15</td> <td> 1.21e-16</td> <td>    8.886</td> <td> 0.000</td> <td> 8.35e-16</td> <td> 1.31e-15</td>\n",
       "</tr>\n",
       "<tr>\n",
       "  <th>Country[T.Kuwait]</th>               <td>   -1.6879</td> <td>    0.181</td> <td>   -9.312</td> <td> 0.000</td> <td>   -2.043</td> <td>   -1.333</td>\n",
       "</tr>\n",
       "<tr>\n",
       "  <th>Country[T.Lithuania]</th>            <td>    1.0618</td> <td>    0.179</td> <td>    5.926</td> <td> 0.000</td> <td>    0.711</td> <td>    1.413</td>\n",
       "</tr>\n",
       "<tr>\n",
       "  <th>Country[T.Malta]</th>                <td>   -2.4232</td> <td>    0.183</td> <td>  -13.217</td> <td> 0.000</td> <td>   -2.783</td> <td>   -2.064</td>\n",
       "</tr>\n",
       "<tr>\n",
       "  <th>Country[T.Mexico]</th>               <td>    2.9283</td> <td>    0.179</td> <td>   16.321</td> <td> 0.000</td> <td>    2.577</td> <td>    3.280</td>\n",
       "</tr>\n",
       "<tr>\n",
       "  <th>Country[T.Morocco]</th>              <td>   -0.3259</td> <td>    0.180</td> <td>   -1.809</td> <td> 0.070</td> <td>   -0.679</td> <td>    0.027</td>\n",
       "</tr>\n",
       "<tr>\n",
       "  <th>Country[T.Netherlands]</th>          <td>    3.8713</td> <td>    0.179</td> <td>   21.642</td> <td> 0.000</td> <td>    3.521</td> <td>    4.222</td>\n",
       "</tr>\n",
       "<tr>\n",
       "  <th>Country[T.New Zealand]</th>          <td>    0.1067</td> <td>    0.180</td> <td>    0.594</td> <td> 0.552</td> <td>   -0.245</td> <td>    0.459</td>\n",
       "</tr>\n",
       "<tr>\n",
       "  <th>Country[T.Nicaragua]</th>            <td>   -3.1038</td> <td>    0.186</td> <td>  -16.679</td> <td> 0.000</td> <td>   -3.469</td> <td>   -2.739</td>\n",
       "</tr>\n",
       "<tr>\n",
       "  <th>Country[T.Niger]</th>                <td>   -5.8521</td> <td>    0.210</td> <td>  -27.901</td> <td> 0.000</td> <td>   -6.263</td> <td>   -5.441</td>\n",
       "</tr>\n",
       "<tr>\n",
       "  <th>Country[T.Norway]</th>               <td>    0.6294</td> <td>    0.180</td> <td>    3.505</td> <td> 0.000</td> <td>    0.277</td> <td>    0.981</td>\n",
       "</tr>\n",
       "<tr>\n",
       "  <th>Country[T.Oman]</th>                 <td>   -0.5703</td> <td>    0.180</td> <td>   -3.160</td> <td> 0.002</td> <td>   -0.924</td> <td>   -0.217</td>\n",
       "</tr>\n",
       "<tr>\n",
       "  <th>Country[T.Panama]</th>               <td>   -2.6621</td> <td>    0.183</td> <td>  -14.512</td> <td> 0.000</td> <td>   -3.022</td> <td>   -2.303</td>\n",
       "</tr>\n",
       "<tr>\n",
       "  <th>Country[T.Paraguay]</th>             <td>   -3.0648</td> <td>    0.187</td> <td>  -16.386</td> <td> 0.000</td> <td>   -3.431</td> <td>   -2.698</td>\n",
       "</tr>\n",
       "<tr>\n",
       "  <th>Country[T.Peru]</th>                 <td>   -0.5337</td> <td>    0.180</td> <td>   -2.971</td> <td> 0.003</td> <td>   -0.886</td> <td>   -0.182</td>\n",
       "</tr>\n",
       "<tr>\n",
       "  <th>Country[T.Poland]</th>               <td>    3.3993</td> <td>    0.179</td> <td>   18.973</td> <td> 0.000</td> <td>    3.048</td> <td>    3.751</td>\n",
       "</tr>\n",
       "<tr>\n",
       "  <th>Country[T.Portugal]</th>             <td>    2.0387</td> <td>    0.179</td> <td>   11.364</td> <td> 0.000</td> <td>    1.687</td> <td>    2.390</td>\n",
       "</tr>\n",
       "<tr>\n",
       "  <th>Country[T.Qatar]</th>                <td>   -2.7891</td> <td>    0.185</td> <td>  -15.113</td> <td> 0.000</td> <td>   -3.151</td> <td>   -2.427</td>\n",
       "</tr>\n",
       "<tr>\n",
       "  <th>Country[T.Romania]</th>              <td>    1.8078</td> <td>    0.179</td> <td>   10.079</td> <td> 0.000</td> <td>    1.456</td> <td>    2.159</td>\n",
       "</tr>\n",
       "<tr>\n",
       "  <th>Country[T.Russia]</th>               <td>    2.2665</td> <td>    0.179</td> <td>   12.661</td> <td> 0.000</td> <td>    1.916</td> <td>    2.617</td>\n",
       "</tr>\n",
       "<tr>\n",
       "  <th>Country[T.Saudi Arabia]</th>         <td>   -0.6400</td> <td>    0.181</td> <td>   -3.537</td> <td> 0.000</td> <td>   -0.995</td> <td>   -0.285</td>\n",
       "</tr>\n",
       "<tr>\n",
       "  <th>Country[T.Senegal]</th>              <td>   -4.5791</td> <td>    0.193</td> <td>  -23.697</td> <td> 0.000</td> <td>   -4.958</td> <td>   -4.200</td>\n",
       "</tr>\n",
       "<tr>\n",
       "  <th>Country[T.Singapore]</th>            <td>    1.9530</td> <td>    0.179</td> <td>   10.897</td> <td> 0.000</td> <td>    1.602</td> <td>    2.304</td>\n",
       "</tr>\n",
       "<tr>\n",
       "  <th>Country[T.Slovak Republic]</th>      <td>    1.6939</td> <td>    0.179</td> <td>    9.443</td> <td> 0.000</td> <td>    1.342</td> <td>    2.045</td>\n",
       "</tr>\n",
       "<tr>\n",
       "  <th>Country[T.Slovenia]</th>             <td>    1.1065</td> <td>    0.179</td> <td>    6.165</td> <td> 0.000</td> <td>    0.755</td> <td>    1.458</td>\n",
       "</tr>\n",
       "<tr>\n",
       "  <th>Country[T.South Africa]</th>         <td>    1.4526</td> <td>    0.179</td> <td>    8.120</td> <td> 0.000</td> <td>    1.102</td> <td>    1.803</td>\n",
       "</tr>\n",
       "<tr>\n",
       "  <th>Country[T.South Korea]</th>          <td> 5.536e-16</td> <td> 7.36e-17</td> <td>    7.519</td> <td> 0.000</td> <td> 4.09e-16</td> <td> 6.98e-16</td>\n",
       "</tr>\n",
       "<tr>\n",
       "  <th>Country[T.Spain]</th>                <td>    3.6584</td> <td>    0.179</td> <td>   20.455</td> <td> 0.000</td> <td>    3.308</td> <td>    4.009</td>\n",
       "</tr>\n",
       "<tr>\n",
       "  <th>Country[T.Sweden]</th>               <td>    2.4191</td> <td>    0.179</td> <td>   13.516</td> <td> 0.000</td> <td>    2.068</td> <td>    2.770</td>\n",
       "</tr>\n",
       "<tr>\n",
       "  <th>Country[T.Thailand]</th>             <td>-2.204e-16</td> <td> 4.97e-17</td> <td>   -4.430</td> <td> 0.000</td> <td>-3.18e-16</td> <td>-1.23e-16</td>\n",
       "</tr>\n",
       "<tr>\n",
       "  <th>Country[T.Togo]</th>                 <td>   -5.1554</td> <td>    0.203</td> <td>  -25.410</td> <td> 0.000</td> <td>   -5.553</td> <td>   -4.758</td>\n",
       "</tr>\n",
       "<tr>\n",
       "  <th>Country[T.Trinidad and Tobago]</th>  <td>   -4.8127</td> <td>    0.205</td> <td>  -23.454</td> <td> 0.000</td> <td>   -5.215</td> <td>   -4.410</td>\n",
       "</tr>\n",
       "<tr>\n",
       "  <th>Country[T.Tunisia]</th>              <td>-2.549e-16</td> <td> 3.08e-17</td> <td>   -8.268</td> <td> 0.000</td> <td>-3.15e-16</td> <td>-1.94e-16</td>\n",
       "</tr>\n",
       "<tr>\n",
       "  <th>Country[T.Turkey]</th>               <td> 8.764e-17</td> <td> 1.99e-17</td> <td>    4.411</td> <td> 0.000</td> <td> 4.87e-17</td> <td> 1.27e-16</td>\n",
       "</tr>\n",
       "<tr>\n",
       "  <th>Country[T.U.A.E.]</th>               <td>    2.3250</td> <td>    0.179</td> <td>   12.981</td> <td> 0.000</td> <td>    1.974</td> <td>    2.676</td>\n",
       "</tr>\n",
       "<tr>\n",
       "  <th>Country[T.United States]</th>        <td>    4.7406</td> <td>    0.179</td> <td>   26.499</td> <td> 0.000</td> <td>    4.390</td> <td>    5.091</td>\n",
       "</tr>\n",
       "<tr>\n",
       "  <th>Country[T.Uruguay]</th>              <td>   -2.5083</td> <td>    0.184</td> <td>  -13.656</td> <td> 0.000</td> <td>   -2.868</td> <td>   -2.148</td>\n",
       "</tr>\n",
       "<tr>\n",
       "  <th>Country[T.Yemen]</th>                <td>         0</td> <td>        0</td> <td>      nan</td> <td>   nan</td> <td>        0</td> <td>        0</td>\n",
       "</tr>\n",
       "<tr>\n",
       "  <th>Country[T.Yugoslavia]</th>           <td>         0</td> <td>        0</td> <td>      nan</td> <td>   nan</td> <td>        0</td> <td>        0</td>\n",
       "</tr>\n",
       "<tr>\n",
       "  <th>MEDIAN_PIRLSDIV1000:PORTION_CLG</th> <td>    0.1827</td> <td>    0.063</td> <td>    2.896</td> <td> 0.004</td> <td>    0.059</td> <td>    0.306</td>\n",
       "</tr>\n",
       "<tr>\n",
       "  <th>ind1990ddx</th>                      <td>    0.0008</td> <td>    0.000</td> <td>    4.670</td> <td> 0.000</td> <td>    0.000</td> <td>    0.001</td>\n",
       "</tr>\n",
       "</table>\n",
       "<table class=\"simpletable\">\n",
       "<tr>\n",
       "  <th>Omnibus:</th>       <td>1209.313</td> <th>  Durbin-Watson:     </th> <td>   1.541</td>\n",
       "</tr>\n",
       "<tr>\n",
       "  <th>Prob(Omnibus):</th>  <td> 0.000</td>  <th>  Jarque-Bera (JB):  </th> <td>2761.725</td>\n",
       "</tr>\n",
       "<tr>\n",
       "  <th>Skew:</th>           <td>-0.290</td>  <th>  Prob(JB):          </th> <td>    0.00</td>\n",
       "</tr>\n",
       "<tr>\n",
       "  <th>Kurtosis:</th>       <td> 4.474</td>  <th>  Cond. No.          </th> <td>1.95e+19</td>\n",
       "</tr>\n",
       "</table><br/><br/>Notes:<br/>[1] Standard Errors assume that the covariance matrix of the errors is correctly specified.<br/>[2] The smallest eigenvalue is 4.32e-30. This might indicate that there are<br/>strong multicollinearity problems or that the design matrix is singular."
      ],
      "text/plain": [
       "<class 'statsmodels.iolib.summary.Summary'>\n",
       "\"\"\"\n",
       "                            OLS Regression Results                            \n",
       "==============================================================================\n",
       "Dep. Variable:          log_tradeflow   R-squared:                       0.528\n",
       "Model:                            OLS   Adj. R-squared:                  0.527\n",
       "Method:                 Least Squares   F-statistic:                     433.0\n",
       "Date:                Mon, 28 Dec 2020   Prob (F-statistic):               0.00\n",
       "Time:                        20:14:39   Log-Likelihood:                -62965.\n",
       "No. Observations:               26401   AIC:                         1.261e+05\n",
       "Df Residuals:                   26332   BIC:                         1.266e+05\n",
       "Df Model:                          68                                         \n",
       "Covariance Type:            nonrobust                                         \n",
       "===================================================================================================\n",
       "                                      coef    std err          t      P>|t|      [0.025      0.975]\n",
       "---------------------------------------------------------------------------------------------------\n",
       "Intercept                           8.0737      0.132     61.380      0.000       7.816       8.332\n",
       "Country[T.Armenia]               2.357e-13   1.08e-13      2.189      0.029    2.46e-14    4.47e-13\n",
       "Country[T.Australia]                1.7108      0.179      9.543      0.000       1.359       2.062\n",
       "Country[T.Austria]                  2.8289      0.179     15.789      0.000       2.478       3.180\n",
       "Country[T.Azerbaijan]              -3.3490      0.187    -17.867      0.000      -3.716      -2.982\n",
       "Country[T.Bahrain]              -1.068e-14   1.47e-15     -7.255      0.000   -1.36e-14    -7.8e-15\n",
       "Country[T.Benin]                   -6.1520      0.226    -27.253      0.000      -6.594      -5.710\n",
       "Country[T.Brazil]                   1.9076      0.179     10.656      0.000       1.557       2.259\n",
       "Country[T.Bulgaria]                 1.1290      0.179      6.301      0.000       0.778       1.480\n",
       "Country[T.Burkina Faso]            -5.8243      0.210    -27.704      0.000      -6.236      -5.412\n",
       "Country[T.Burundi]                 -6.4658      0.269    -24.023      0.000      -6.993      -5.938\n",
       "Country[T.Cameroon]                -4.3820      0.193    -22.696      0.000      -4.760      -4.004\n",
       "Country[T.Canada]                   3.1438      0.179     17.574      0.000       2.793       3.494\n",
       "Country[T.Chad]                    -6.4858      0.259    -25.033      0.000      -6.994      -5.978\n",
       "Country[T.Chile]                    0.0464      0.180      0.258      0.796      -0.306       0.399\n",
       "Country[T.Colombia]                -0.0983      0.180     -0.547      0.584      -0.451       0.254\n",
       "Country[T.Congo]                   -5.0035      0.212    -23.639      0.000      -5.418      -4.589\n",
       "Country[T.Costa Rica]              -1.3464      0.181     -7.437      0.000      -1.701      -0.992\n",
       "Country[T.Cote d'Ivoire]           -2.5784      0.185    -13.971      0.000      -2.940      -2.217\n",
       "Country[T.Croatia]                  0.5801      0.180      3.232      0.001       0.228       0.932\n",
       "Country[T.Czech Republic]           2.7751      0.179     15.504      0.000       2.424       3.126\n",
       "Country[T.Denmark]                  2.2179      0.179     12.376      0.000       1.867       2.569\n",
       "Country[T.Dominican Republic]      -2.3442      0.185    -12.683      0.000      -2.706      -1.982\n",
       "Country[T.Ecuador]                 -2.1695      0.182    -11.888      0.000      -2.527      -1.812\n",
       "Country[T.Finland]                  1.2692      0.179      7.081      0.000       0.918       1.620\n",
       "Country[T.France]                   4.0612      0.179     22.706      0.000       3.711       4.412\n",
       "Country[T.Georgia]                 -3.2023      0.185    -17.303      0.000      -3.565      -2.840\n",
       "Country[T.Germany]                  5.0742      0.179     28.367      0.000       4.724       5.425\n",
       "Country[T.Guatemala]               -1.9193      0.183    -10.483      0.000      -2.278      -1.560\n",
       "Country[T.Honduras]                -2.6462      0.189    -13.979      0.000      -3.017      -2.275\n",
       "Country[T.Hong Kong]                1.7278      0.179      9.629      0.000       1.376       2.080\n",
       "Country[T.Hungary]                  2.1182      0.180     11.794      0.000       1.766       2.470\n",
       "Country[T.Indonesia]                2.0047      0.179     11.199      0.000       1.654       2.356\n",
       "Country[T.Iran]                    -1.7645      0.181     -9.765      0.000      -2.119      -1.410\n",
       "Country[T.Ireland]                  1.2387      0.180      6.901      0.000       0.887       1.591\n",
       "Country[T.Israel]                   0.3082      0.180      1.713      0.087      -0.044       0.661\n",
       "Country[T.Italy]                    4.1461      0.179     23.178      0.000       3.795       4.497\n",
       "Country[T.Japan]                -3.534e-16   8.48e-17     -4.168      0.000    -5.2e-16   -1.87e-16\n",
       "Country[T.Kazakhstan]            1.072e-15   1.21e-16      8.886      0.000    8.35e-16    1.31e-15\n",
       "Country[T.Kuwait]                  -1.6879      0.181     -9.312      0.000      -2.043      -1.333\n",
       "Country[T.Lithuania]                1.0618      0.179      5.926      0.000       0.711       1.413\n",
       "Country[T.Malta]                   -2.4232      0.183    -13.217      0.000      -2.783      -2.064\n",
       "Country[T.Mexico]                   2.9283      0.179     16.321      0.000       2.577       3.280\n",
       "Country[T.Morocco]                 -0.3259      0.180     -1.809      0.070      -0.679       0.027\n",
       "Country[T.Netherlands]              3.8713      0.179     21.642      0.000       3.521       4.222\n",
       "Country[T.New Zealand]              0.1067      0.180      0.594      0.552      -0.245       0.459\n",
       "Country[T.Nicaragua]               -3.1038      0.186    -16.679      0.000      -3.469      -2.739\n",
       "Country[T.Niger]                   -5.8521      0.210    -27.901      0.000      -6.263      -5.441\n",
       "Country[T.Norway]                   0.6294      0.180      3.505      0.000       0.277       0.981\n",
       "Country[T.Oman]                    -0.5703      0.180     -3.160      0.002      -0.924      -0.217\n",
       "Country[T.Panama]                  -2.6621      0.183    -14.512      0.000      -3.022      -2.303\n",
       "Country[T.Paraguay]                -3.0648      0.187    -16.386      0.000      -3.431      -2.698\n",
       "Country[T.Peru]                    -0.5337      0.180     -2.971      0.003      -0.886      -0.182\n",
       "Country[T.Poland]                   3.3993      0.179     18.973      0.000       3.048       3.751\n",
       "Country[T.Portugal]                 2.0387      0.179     11.364      0.000       1.687       2.390\n",
       "Country[T.Qatar]                   -2.7891      0.185    -15.113      0.000      -3.151      -2.427\n",
       "Country[T.Romania]                  1.8078      0.179     10.079      0.000       1.456       2.159\n",
       "Country[T.Russia]                   2.2665      0.179     12.661      0.000       1.916       2.617\n",
       "Country[T.Saudi Arabia]            -0.6400      0.181     -3.537      0.000      -0.995      -0.285\n",
       "Country[T.Senegal]                 -4.5791      0.193    -23.697      0.000      -4.958      -4.200\n",
       "Country[T.Singapore]                1.9530      0.179     10.897      0.000       1.602       2.304\n",
       "Country[T.Slovak Republic]          1.6939      0.179      9.443      0.000       1.342       2.045\n",
       "Country[T.Slovenia]                 1.1065      0.179      6.165      0.000       0.755       1.458\n",
       "Country[T.South Africa]             1.4526      0.179      8.120      0.000       1.102       1.803\n",
       "Country[T.South Korea]           5.536e-16   7.36e-17      7.519      0.000    4.09e-16    6.98e-16\n",
       "Country[T.Spain]                    3.6584      0.179     20.455      0.000       3.308       4.009\n",
       "Country[T.Sweden]                   2.4191      0.179     13.516      0.000       2.068       2.770\n",
       "Country[T.Thailand]             -2.204e-16   4.97e-17     -4.430      0.000   -3.18e-16   -1.23e-16\n",
       "Country[T.Togo]                    -5.1554      0.203    -25.410      0.000      -5.553      -4.758\n",
       "Country[T.Trinidad and Tobago]     -4.8127      0.205    -23.454      0.000      -5.215      -4.410\n",
       "Country[T.Tunisia]              -2.549e-16   3.08e-17     -8.268      0.000   -3.15e-16   -1.94e-16\n",
       "Country[T.Turkey]                8.764e-17   1.99e-17      4.411      0.000    4.87e-17    1.27e-16\n",
       "Country[T.U.A.E.]                   2.3250      0.179     12.981      0.000       1.974       2.676\n",
       "Country[T.United States]            4.7406      0.179     26.499      0.000       4.390       5.091\n",
       "Country[T.Uruguay]                 -2.5083      0.184    -13.656      0.000      -2.868      -2.148\n",
       "Country[T.Yemen]                         0          0        nan        nan           0           0\n",
       "Country[T.Yugoslavia]                    0          0        nan        nan           0           0\n",
       "MEDIAN_PIRLSDIV1000:PORTION_CLG     0.1827      0.063      2.896      0.004       0.059       0.306\n",
       "ind1990ddx                          0.0008      0.000      4.670      0.000       0.000       0.001\n",
       "==============================================================================\n",
       "Omnibus:                     1209.313   Durbin-Watson:                   1.541\n",
       "Prob(Omnibus):                  0.000   Jarque-Bera (JB):             2761.725\n",
       "Skew:                          -0.290   Prob(JB):                         0.00\n",
       "Kurtosis:                       4.474   Cond. No.                     1.95e+19\n",
       "==============================================================================\n",
       "\n",
       "Notes:\n",
       "[1] Standard Errors assume that the covariance matrix of the errors is correctly specified.\n",
       "[2] The smallest eigenvalue is 4.32e-30. This might indicate that there are\n",
       "strong multicollinearity problems or that the design matrix is singular.\n",
       "\"\"\""
      ]
     },
     "execution_count": 76,
     "metadata": {},
     "output_type": "execute_result"
    }
   ],
   "source": [
    "exports_1_res.summary()"
   ]
  },
  {
   "cell_type": "markdown",
   "metadata": {},
   "source": [
    "$$ \\log(V_{ci}) \\sim \\mathrm{TIMSS}_{c}/1000:\\mathrm{highschool}_i + i + c $$"
   ]
  },
  {
   "cell_type": "code",
   "execution_count": 77,
   "metadata": {},
   "outputs": [
    {
     "data": {
      "text/plain": [
       "Intercept                         8.040393\n",
       "Country[T.Armenia]               -3.057653\n",
       "Country[T.Australia]              1.729125\n",
       "Country[T.Austria]                2.846418\n",
       "Country[T.Azerbaijan]            -3.344356\n",
       "                                    ...   \n",
       "Country[T.Uruguay]               -2.505452\n",
       "Country[T.Yemen]                 -5.768035\n",
       "Country[T.Yugoslavia]             0.594384\n",
       "MEDIAN_TIMSSDIV1000:PORTION_HS   -0.011785\n",
       "ind1990ddx                        0.001296\n",
       "Length: 79, dtype: float64"
      ]
     },
     "execution_count": 77,
     "metadata": {},
     "output_type": "execute_result"
    }
   ],
   "source": [
    "mod = smf.ols('log_tradeflow ~ MEDIAN_TIMSSDIV1000: PORTION_HS + ind1990ddx + Country', data=exports)\n",
    "exports_1_res = mod.fit()\n",
    "exports_1_res.params"
   ]
  },
  {
   "cell_type": "markdown",
   "metadata": {},
   "source": [
    "**R-squared is 0.521 and Intercept 8.040393**"
   ]
  },
  {
   "cell_type": "code",
   "execution_count": 78,
   "metadata": {},
   "outputs": [
    {
     "data": {
      "text/html": [
       "<table class=\"simpletable\">\n",
       "<caption>OLS Regression Results</caption>\n",
       "<tr>\n",
       "  <th>Dep. Variable:</th>      <td>log_tradeflow</td>  <th>  R-squared:         </th> <td>   0.521</td> \n",
       "</tr>\n",
       "<tr>\n",
       "  <th>Model:</th>                   <td>OLS</td>       <th>  Adj. R-squared:    </th> <td>   0.520</td> \n",
       "</tr>\n",
       "<tr>\n",
       "  <th>Method:</th>             <td>Least Squares</td>  <th>  F-statistic:       </th> <td>   419.8</td> \n",
       "</tr>\n",
       "<tr>\n",
       "  <th>Date:</th>             <td>Mon, 28 Dec 2020</td> <th>  Prob (F-statistic):</th>  <td>  0.00</td>  \n",
       "</tr>\n",
       "<tr>\n",
       "  <th>Time:</th>                 <td>20:14:39</td>     <th>  Log-Likelihood:    </th> <td> -65760.</td> \n",
       "</tr>\n",
       "<tr>\n",
       "  <th>No. Observations:</th>      <td> 27490</td>      <th>  AIC:               </th> <td>1.317e+05</td>\n",
       "</tr>\n",
       "<tr>\n",
       "  <th>Df Residuals:</th>          <td> 27418</td>      <th>  BIC:               </th> <td>1.323e+05</td>\n",
       "</tr>\n",
       "<tr>\n",
       "  <th>Df Model:</th>              <td>    71</td>      <th>                     </th>     <td> </td>    \n",
       "</tr>\n",
       "<tr>\n",
       "  <th>Covariance Type:</th>      <td>nonrobust</td>    <th>                     </th>     <td> </td>    \n",
       "</tr>\n",
       "</table>\n",
       "<table class=\"simpletable\">\n",
       "<tr>\n",
       "                 <td></td>                   <th>coef</th>     <th>std err</th>      <th>t</th>      <th>P>|t|</th>  <th>[0.025</th>    <th>0.975]</th>  \n",
       "</tr>\n",
       "<tr>\n",
       "  <th>Intercept</th>                      <td>    8.0404</td> <td>    0.132</td> <td>   60.742</td> <td> 0.000</td> <td>    7.781</td> <td>    8.300</td>\n",
       "</tr>\n",
       "<tr>\n",
       "  <th>Country[T.Armenia]</th>             <td>   -3.0577</td> <td>    0.187</td> <td>  -16.335</td> <td> 0.000</td> <td>   -3.425</td> <td>   -2.691</td>\n",
       "</tr>\n",
       "<tr>\n",
       "  <th>Country[T.Australia]</th>           <td>    1.7291</td> <td>    0.181</td> <td>    9.574</td> <td> 0.000</td> <td>    1.375</td> <td>    2.083</td>\n",
       "</tr>\n",
       "<tr>\n",
       "  <th>Country[T.Austria]</th>             <td>    2.8464</td> <td>    0.180</td> <td>   15.771</td> <td> 0.000</td> <td>    2.493</td> <td>    3.200</td>\n",
       "</tr>\n",
       "<tr>\n",
       "  <th>Country[T.Azerbaijan]</th>          <td>   -3.3444</td> <td>    0.189</td> <td>  -17.712</td> <td> 0.000</td> <td>   -3.714</td> <td>   -2.974</td>\n",
       "</tr>\n",
       "<tr>\n",
       "  <th>Country[T.Bahrain]</th>             <td>   -1.4913</td> <td>    0.184</td> <td>   -8.092</td> <td> 0.000</td> <td>   -1.853</td> <td>   -1.130</td>\n",
       "</tr>\n",
       "<tr>\n",
       "  <th>Country[T.Benin]</th>               <td>   -6.1558</td> <td>    0.227</td> <td>  -27.074</td> <td> 0.000</td> <td>   -6.601</td> <td>   -5.710</td>\n",
       "</tr>\n",
       "<tr>\n",
       "  <th>Country[T.Brazil]</th>              <td>    1.9092</td> <td>    0.180</td> <td>   10.588</td> <td> 0.000</td> <td>    1.556</td> <td>    2.263</td>\n",
       "</tr>\n",
       "<tr>\n",
       "  <th>Country[T.Bulgaria]</th>            <td>-4.046e-15</td> <td> 2.48e-15</td> <td>   -1.633</td> <td> 0.103</td> <td> -8.9e-15</td> <td> 8.11e-16</td>\n",
       "</tr>\n",
       "<tr>\n",
       "  <th>Country[T.Burkina Faso]</th>        <td>   -5.8317</td> <td>    0.212</td> <td>  -27.540</td> <td> 0.000</td> <td>   -6.247</td> <td>   -5.417</td>\n",
       "</tr>\n",
       "<tr>\n",
       "  <th>Country[T.Burundi]</th>             <td>   -6.4647</td> <td>    0.271</td> <td>  -23.843</td> <td> 0.000</td> <td>   -6.996</td> <td>   -5.933</td>\n",
       "</tr>\n",
       "<tr>\n",
       "  <th>Country[T.Cameroon]</th>            <td>   -4.3901</td> <td>    0.194</td> <td>  -22.575</td> <td> 0.000</td> <td>   -4.771</td> <td>   -4.009</td>\n",
       "</tr>\n",
       "<tr>\n",
       "  <th>Country[T.Canada]</th>              <td>-4.201e-12</td> <td> 1.47e-13</td> <td>  -28.510</td> <td> 0.000</td> <td>-4.49e-12</td> <td>-3.91e-12</td>\n",
       "</tr>\n",
       "<tr>\n",
       "  <th>Country[T.Chad]</th>                <td>   -6.5120</td> <td>    0.261</td> <td>  -24.955</td> <td> 0.000</td> <td>   -7.024</td> <td>   -6.001</td>\n",
       "</tr>\n",
       "<tr>\n",
       "  <th>Country[T.Chile]</th>               <td>    0.0591</td> <td>    0.181</td> <td>    0.326</td> <td> 0.744</td> <td>   -0.296</td> <td>    0.414</td>\n",
       "</tr>\n",
       "<tr>\n",
       "  <th>Country[T.Colombia]</th>            <td>   -0.0976</td> <td>    0.181</td> <td>   -0.539</td> <td> 0.590</td> <td>   -0.452</td> <td>    0.257</td>\n",
       "</tr>\n",
       "<tr>\n",
       "  <th>Country[T.Congo]</th>               <td>   -5.0217</td> <td>    0.213</td> <td>  -23.555</td> <td> 0.000</td> <td>   -5.440</td> <td>   -4.604</td>\n",
       "</tr>\n",
       "<tr>\n",
       "  <th>Country[T.Costa Rica]</th>          <td>   -1.3393</td> <td>    0.182</td> <td>   -7.345</td> <td> 0.000</td> <td>   -1.697</td> <td>   -0.982</td>\n",
       "</tr>\n",
       "<tr>\n",
       "  <th>Country[T.Cote d'Ivoire]</th>       <td>   -2.5878</td> <td>    0.186</td> <td>  -13.921</td> <td> 0.000</td> <td>   -2.952</td> <td>   -2.223</td>\n",
       "</tr>\n",
       "<tr>\n",
       "  <th>Country[T.Croatia]</th>             <td>    0.6002</td> <td>    0.181</td> <td>    3.320</td> <td> 0.001</td> <td>    0.246</td> <td>    0.954</td>\n",
       "</tr>\n",
       "<tr>\n",
       "  <th>Country[T.Czech Republic]</th>      <td>    2.7950</td> <td>    0.180</td> <td>   15.504</td> <td> 0.000</td> <td>    2.442</td> <td>    3.148</td>\n",
       "</tr>\n",
       "<tr>\n",
       "  <th>Country[T.Denmark]</th>             <td>    2.2400</td> <td>    0.181</td> <td>   12.408</td> <td> 0.000</td> <td>    1.886</td> <td>    2.594</td>\n",
       "</tr>\n",
       "<tr>\n",
       "  <th>Country[T.Dominican Republic]</th>  <td>   -2.3597</td> <td>    0.186</td> <td>  -12.673</td> <td> 0.000</td> <td>   -2.725</td> <td>   -1.995</td>\n",
       "</tr>\n",
       "<tr>\n",
       "  <th>Country[T.Ecuador]</th>             <td>   -2.1703</td> <td>    0.184</td> <td>  -11.807</td> <td> 0.000</td> <td>   -2.531</td> <td>   -1.810</td>\n",
       "</tr>\n",
       "<tr>\n",
       "  <th>Country[T.Finland]</th>             <td>    1.2938</td> <td>    0.181</td> <td>    7.166</td> <td> 0.000</td> <td>    0.940</td> <td>    1.648</td>\n",
       "</tr>\n",
       "<tr>\n",
       "  <th>Country[T.France]</th>              <td> 3.173e-13</td> <td>  1.1e-14</td> <td>   28.737</td> <td> 0.000</td> <td> 2.96e-13</td> <td> 3.39e-13</td>\n",
       "</tr>\n",
       "<tr>\n",
       "  <th>Country[T.Georgia]</th>             <td>   -3.1921</td> <td>    0.186</td> <td>  -17.124</td> <td> 0.000</td> <td>   -3.557</td> <td>   -2.827</td>\n",
       "</tr>\n",
       "<tr>\n",
       "  <th>Country[T.Germany]</th>             <td>    5.0942</td> <td>    0.180</td> <td>   28.270</td> <td> 0.000</td> <td>    4.741</td> <td>    5.447</td>\n",
       "</tr>\n",
       "<tr>\n",
       "  <th>Country[T.Guatemala]</th>           <td>   -1.9229</td> <td>    0.184</td> <td>  -10.427</td> <td> 0.000</td> <td>   -2.284</td> <td>   -1.561</td>\n",
       "</tr>\n",
       "<tr>\n",
       "  <th>Country[T.Honduras]</th>            <td>   -2.6488</td> <td>    0.191</td> <td>  -13.892</td> <td> 0.000</td> <td>   -3.022</td> <td>   -2.275</td>\n",
       "</tr>\n",
       "<tr>\n",
       "  <th>Country[T.Hong Kong]</th>           <td>    1.7552</td> <td>    0.181</td> <td>    9.704</td> <td> 0.000</td> <td>    1.401</td> <td>    2.110</td>\n",
       "</tr>\n",
       "<tr>\n",
       "  <th>Country[T.Hungary]</th>             <td>    2.1376</td> <td>    0.181</td> <td>   11.816</td> <td> 0.000</td> <td>    1.783</td> <td>    2.492</td>\n",
       "</tr>\n",
       "<tr>\n",
       "  <th>Country[T.Indonesia]</th>           <td> 1.294e-13</td> <td> 4.54e-15</td> <td>   28.485</td> <td> 0.000</td> <td>  1.2e-13</td> <td> 1.38e-13</td>\n",
       "</tr>\n",
       "<tr>\n",
       "  <th>Country[T.Iran]</th>                <td>   -1.7596</td> <td>    0.182</td> <td>   -9.668</td> <td> 0.000</td> <td>   -2.116</td> <td>   -1.403</td>\n",
       "</tr>\n",
       "<tr>\n",
       "  <th>Country[T.Ireland]</th>             <td>    1.2602</td> <td>    0.181</td> <td>    6.969</td> <td> 0.000</td> <td>    0.906</td> <td>    1.615</td>\n",
       "</tr>\n",
       "<tr>\n",
       "  <th>Country[T.Israel]</th>              <td> 9.525e-14</td> <td> 3.48e-15</td> <td>   27.354</td> <td> 0.000</td> <td> 8.84e-14</td> <td> 1.02e-13</td>\n",
       "</tr>\n",
       "<tr>\n",
       "  <th>Country[T.Italy]</th>               <td>    4.1651</td> <td>    0.180</td> <td>   23.118</td> <td> 0.000</td> <td>    3.812</td> <td>    4.518</td>\n",
       "</tr>\n",
       "<tr>\n",
       "  <th>Country[T.Japan]</th>               <td>    3.0714</td> <td>    0.181</td> <td>   17.014</td> <td> 0.000</td> <td>    2.718</td> <td>    3.425</td>\n",
       "</tr>\n",
       "<tr>\n",
       "  <th>Country[T.Kazakhstan]</th>          <td>   -1.0850</td> <td>    0.181</td> <td>   -5.984</td> <td> 0.000</td> <td>   -1.440</td> <td>   -0.730</td>\n",
       "</tr>\n",
       "<tr>\n",
       "  <th>Country[T.Kuwait]</th>              <td>   -1.6972</td> <td>    0.183</td> <td>   -9.296</td> <td> 0.000</td> <td>   -2.055</td> <td>   -1.339</td>\n",
       "</tr>\n",
       "<tr>\n",
       "  <th>Country[T.Lithuania]</th>           <td>    1.0807</td> <td>    0.181</td> <td>    5.987</td> <td> 0.000</td> <td>    0.727</td> <td>    1.435</td>\n",
       "</tr>\n",
       "<tr>\n",
       "  <th>Country[T.Malta]</th>               <td>   -2.4130</td> <td>    0.185</td> <td>  -13.064</td> <td> 0.000</td> <td>   -2.775</td> <td>   -2.051</td>\n",
       "</tr>\n",
       "<tr>\n",
       "  <th>Country[T.Mexico]</th>              <td>    2.9303</td> <td>    0.181</td> <td>   16.214</td> <td> 0.000</td> <td>    2.576</td> <td>    3.285</td>\n",
       "</tr>\n",
       "<tr>\n",
       "  <th>Country[T.Morocco]</th>             <td>   -0.3465</td> <td>    0.181</td> <td>   -1.910</td> <td> 0.056</td> <td>   -0.702</td> <td>    0.009</td>\n",
       "</tr>\n",
       "<tr>\n",
       "  <th>Country[T.Netherlands]</th>         <td>    3.8924</td> <td>    0.180</td> <td>   21.598</td> <td> 0.000</td> <td>    3.539</td> <td>    4.246</td>\n",
       "</tr>\n",
       "<tr>\n",
       "  <th>Country[T.New Zealand]</th>         <td>    0.1239</td> <td>    0.181</td> <td>    0.685</td> <td> 0.493</td> <td>   -0.231</td> <td>    0.479</td>\n",
       "</tr>\n",
       "<tr>\n",
       "  <th>Country[T.Nicaragua]</th>           <td>   -3.1130</td> <td>    0.187</td> <td>  -16.606</td> <td> 0.000</td> <td>   -3.480</td> <td>   -2.746</td>\n",
       "</tr>\n",
       "<tr>\n",
       "  <th>Country[T.Niger]</th>               <td>   -5.8720</td> <td>    0.211</td> <td>  -27.793</td> <td> 0.000</td> <td>   -6.286</td> <td>   -5.458</td>\n",
       "</tr>\n",
       "<tr>\n",
       "  <th>Country[T.Norway]</th>              <td>    0.6430</td> <td>    0.181</td> <td>    3.555</td> <td> 0.000</td> <td>    0.288</td> <td>    0.998</td>\n",
       "</tr>\n",
       "<tr>\n",
       "  <th>Country[T.Oman]</th>                <td>   -0.5776</td> <td>    0.182</td> <td>   -3.177</td> <td> 0.001</td> <td>   -0.934</td> <td>   -0.221</td>\n",
       "</tr>\n",
       "<tr>\n",
       "  <th>Country[T.Panama]</th>              <td>   -2.6683</td> <td>    0.185</td> <td>  -14.440</td> <td> 0.000</td> <td>   -3.031</td> <td>   -2.306</td>\n",
       "</tr>\n",
       "<tr>\n",
       "  <th>Country[T.Paraguay]</th>            <td>   -3.0747</td> <td>    0.188</td> <td>  -16.319</td> <td> 0.000</td> <td>   -3.444</td> <td>   -2.705</td>\n",
       "</tr>\n",
       "<tr>\n",
       "  <th>Country[T.Peru]</th>                <td>   -0.5314</td> <td>    0.181</td> <td>   -2.937</td> <td> 0.003</td> <td>   -0.886</td> <td>   -0.177</td>\n",
       "</tr>\n",
       "<tr>\n",
       "  <th>Country[T.Poland]</th>              <td>    3.4156</td> <td>    0.180</td> <td>   18.928</td> <td> 0.000</td> <td>    3.062</td> <td>    3.769</td>\n",
       "</tr>\n",
       "<tr>\n",
       "  <th>Country[T.Portugal]</th>            <td>    2.0594</td> <td>    0.181</td> <td>   11.395</td> <td> 0.000</td> <td>    1.705</td> <td>    2.414</td>\n",
       "</tr>\n",
       "<tr>\n",
       "  <th>Country[T.Qatar]</th>               <td>   -2.7915</td> <td>    0.186</td> <td>  -15.017</td> <td> 0.000</td> <td>   -3.156</td> <td>   -2.427</td>\n",
       "</tr>\n",
       "<tr>\n",
       "  <th>Country[T.Romania]</th>             <td>    1.8221</td> <td>    0.181</td> <td>   10.086</td> <td> 0.000</td> <td>    1.468</td> <td>    2.176</td>\n",
       "</tr>\n",
       "<tr>\n",
       "  <th>Country[T.Russia]</th>              <td>    2.2910</td> <td>    0.180</td> <td>   12.705</td> <td> 0.000</td> <td>    1.938</td> <td>    2.644</td>\n",
       "</tr>\n",
       "<tr>\n",
       "  <th>Country[T.Saudi Arabia]</th>        <td>   -0.6390</td> <td>    0.182</td> <td>   -3.507</td> <td> 0.000</td> <td>   -0.996</td> <td>   -0.282</td>\n",
       "</tr>\n",
       "<tr>\n",
       "  <th>Country[T.Senegal]</th>             <td>   -4.5824</td> <td>    0.195</td> <td>  -23.544</td> <td> 0.000</td> <td>   -4.964</td> <td>   -4.201</td>\n",
       "</tr>\n",
       "<tr>\n",
       "  <th>Country[T.Singapore]</th>           <td>    1.9803</td> <td>    0.181</td> <td>   10.960</td> <td> 0.000</td> <td>    1.626</td> <td>    2.334</td>\n",
       "</tr>\n",
       "<tr>\n",
       "  <th>Country[T.Slovak Republic]</th>     <td>    1.7124</td> <td>    0.181</td> <td>    9.477</td> <td> 0.000</td> <td>    1.358</td> <td>    2.067</td>\n",
       "</tr>\n",
       "<tr>\n",
       "  <th>Country[T.Slovenia]</th>            <td>    1.1242</td> <td>    0.181</td> <td>    6.218</td> <td> 0.000</td> <td>    0.770</td> <td>    1.479</td>\n",
       "</tr>\n",
       "<tr>\n",
       "  <th>Country[T.South Africa]</th>        <td>-2.227e-16</td> <td> 1.38e-16</td> <td>   -1.615</td> <td> 0.106</td> <td>-4.93e-16</td> <td> 4.75e-17</td>\n",
       "</tr>\n",
       "<tr>\n",
       "  <th>Country[T.South Korea]</th>         <td>    2.9783</td> <td>    0.181</td> <td>   16.485</td> <td> 0.000</td> <td>    2.624</td> <td>    3.332</td>\n",
       "</tr>\n",
       "<tr>\n",
       "  <th>Country[T.Spain]</th>               <td>    3.6730</td> <td>    0.180</td> <td>   20.389</td> <td> 0.000</td> <td>    3.320</td> <td>    4.026</td>\n",
       "</tr>\n",
       "<tr>\n",
       "  <th>Country[T.Sweden]</th>              <td>    2.4385</td> <td>    0.180</td> <td>   13.527</td> <td> 0.000</td> <td>    2.085</td> <td>    2.792</td>\n",
       "</tr>\n",
       "<tr>\n",
       "  <th>Country[T.Thailand]</th>            <td>    2.7906</td> <td>    0.180</td> <td>   15.475</td> <td> 0.000</td> <td>    2.437</td> <td>    3.144</td>\n",
       "</tr>\n",
       "<tr>\n",
       "  <th>Country[T.Togo]</th>                <td>   -5.1615</td> <td>    0.204</td> <td>  -25.259</td> <td> 0.000</td> <td>   -5.562</td> <td>   -4.761</td>\n",
       "</tr>\n",
       "<tr>\n",
       "  <th>Country[T.Trinidad and Tobago]</th> <td>  5.71e-16</td> <td> 9.77e-17</td> <td>    5.846</td> <td> 0.000</td> <td>  3.8e-16</td> <td> 7.62e-16</td>\n",
       "</tr>\n",
       "<tr>\n",
       "  <th>Country[T.Tunisia]</th>             <td>   -0.7914</td> <td>    0.184</td> <td>   -4.302</td> <td> 0.000</td> <td>   -1.152</td> <td>   -0.431</td>\n",
       "</tr>\n",
       "<tr>\n",
       "  <th>Country[T.Turkey]</th>              <td>    2.6568</td> <td>    0.180</td> <td>   14.741</td> <td> 0.000</td> <td>    2.304</td> <td>    3.010</td>\n",
       "</tr>\n",
       "<tr>\n",
       "  <th>Country[T.U.A.E.]</th>              <td>    2.3269</td> <td>    0.180</td> <td>   12.897</td> <td> 0.000</td> <td>    1.973</td> <td>    2.681</td>\n",
       "</tr>\n",
       "<tr>\n",
       "  <th>Country[T.United States]</th>       <td>    4.7633</td> <td>    0.180</td> <td>   26.430</td> <td> 0.000</td> <td>    4.410</td> <td>    5.117</td>\n",
       "</tr>\n",
       "<tr>\n",
       "  <th>Country[T.Uruguay]</th>             <td>   -2.5055</td> <td>    0.185</td> <td>  -13.542</td> <td> 0.000</td> <td>   -2.868</td> <td>   -2.143</td>\n",
       "</tr>\n",
       "<tr>\n",
       "  <th>Country[T.Yemen]</th>               <td>   -5.7680</td> <td>    0.233</td> <td>  -24.776</td> <td> 0.000</td> <td>   -6.224</td> <td>   -5.312</td>\n",
       "</tr>\n",
       "<tr>\n",
       "  <th>Country[T.Yugoslavia]</th>          <td>    0.5944</td> <td>    0.181</td> <td>    3.287</td> <td> 0.001</td> <td>    0.240</td> <td>    0.949</td>\n",
       "</tr>\n",
       "<tr>\n",
       "  <th>MEDIAN_TIMSSDIV1000:PORTION_HS</th> <td>   -0.0118</td> <td>    0.013</td> <td>   -0.940</td> <td> 0.347</td> <td>   -0.036</td> <td>    0.013</td>\n",
       "</tr>\n",
       "<tr>\n",
       "  <th>ind1990ddx</th>                     <td>    0.0013</td> <td>    0.000</td> <td>    7.849</td> <td> 0.000</td> <td>    0.001</td> <td>    0.002</td>\n",
       "</tr>\n",
       "</table>\n",
       "<table class=\"simpletable\">\n",
       "<tr>\n",
       "  <th>Omnibus:</th>       <td>1223.593</td> <th>  Durbin-Watson:     </th> <td>   1.522</td>\n",
       "</tr>\n",
       "<tr>\n",
       "  <th>Prob(Omnibus):</th>  <td> 0.000</td>  <th>  Jarque-Bera (JB):  </th> <td>2748.502</td>\n",
       "</tr>\n",
       "<tr>\n",
       "  <th>Skew:</th>           <td>-0.287</td>  <th>  Prob(JB):          </th> <td>    0.00</td>\n",
       "</tr>\n",
       "<tr>\n",
       "  <th>Kurtosis:</th>       <td> 4.439</td>  <th>  Cond. No.          </th> <td>2.76e+19</td>\n",
       "</tr>\n",
       "</table><br/><br/>Notes:<br/>[1] Standard Errors assume that the covariance matrix of the errors is correctly specified.<br/>[2] The smallest eigenvalue is 2.24e-30. This might indicate that there are<br/>strong multicollinearity problems or that the design matrix is singular."
      ],
      "text/plain": [
       "<class 'statsmodels.iolib.summary.Summary'>\n",
       "\"\"\"\n",
       "                            OLS Regression Results                            \n",
       "==============================================================================\n",
       "Dep. Variable:          log_tradeflow   R-squared:                       0.521\n",
       "Model:                            OLS   Adj. R-squared:                  0.520\n",
       "Method:                 Least Squares   F-statistic:                     419.8\n",
       "Date:                Mon, 28 Dec 2020   Prob (F-statistic):               0.00\n",
       "Time:                        20:14:39   Log-Likelihood:                -65760.\n",
       "No. Observations:               27490   AIC:                         1.317e+05\n",
       "Df Residuals:                   27418   BIC:                         1.323e+05\n",
       "Df Model:                          71                                         \n",
       "Covariance Type:            nonrobust                                         \n",
       "==================================================================================================\n",
       "                                     coef    std err          t      P>|t|      [0.025      0.975]\n",
       "--------------------------------------------------------------------------------------------------\n",
       "Intercept                          8.0404      0.132     60.742      0.000       7.781       8.300\n",
       "Country[T.Armenia]                -3.0577      0.187    -16.335      0.000      -3.425      -2.691\n",
       "Country[T.Australia]               1.7291      0.181      9.574      0.000       1.375       2.083\n",
       "Country[T.Austria]                 2.8464      0.180     15.771      0.000       2.493       3.200\n",
       "Country[T.Azerbaijan]             -3.3444      0.189    -17.712      0.000      -3.714      -2.974\n",
       "Country[T.Bahrain]                -1.4913      0.184     -8.092      0.000      -1.853      -1.130\n",
       "Country[T.Benin]                  -6.1558      0.227    -27.074      0.000      -6.601      -5.710\n",
       "Country[T.Brazil]                  1.9092      0.180     10.588      0.000       1.556       2.263\n",
       "Country[T.Bulgaria]            -4.046e-15   2.48e-15     -1.633      0.103    -8.9e-15    8.11e-16\n",
       "Country[T.Burkina Faso]           -5.8317      0.212    -27.540      0.000      -6.247      -5.417\n",
       "Country[T.Burundi]                -6.4647      0.271    -23.843      0.000      -6.996      -5.933\n",
       "Country[T.Cameroon]               -4.3901      0.194    -22.575      0.000      -4.771      -4.009\n",
       "Country[T.Canada]              -4.201e-12   1.47e-13    -28.510      0.000   -4.49e-12   -3.91e-12\n",
       "Country[T.Chad]                   -6.5120      0.261    -24.955      0.000      -7.024      -6.001\n",
       "Country[T.Chile]                   0.0591      0.181      0.326      0.744      -0.296       0.414\n",
       "Country[T.Colombia]               -0.0976      0.181     -0.539      0.590      -0.452       0.257\n",
       "Country[T.Congo]                  -5.0217      0.213    -23.555      0.000      -5.440      -4.604\n",
       "Country[T.Costa Rica]             -1.3393      0.182     -7.345      0.000      -1.697      -0.982\n",
       "Country[T.Cote d'Ivoire]          -2.5878      0.186    -13.921      0.000      -2.952      -2.223\n",
       "Country[T.Croatia]                 0.6002      0.181      3.320      0.001       0.246       0.954\n",
       "Country[T.Czech Republic]          2.7950      0.180     15.504      0.000       2.442       3.148\n",
       "Country[T.Denmark]                 2.2400      0.181     12.408      0.000       1.886       2.594\n",
       "Country[T.Dominican Republic]     -2.3597      0.186    -12.673      0.000      -2.725      -1.995\n",
       "Country[T.Ecuador]                -2.1703      0.184    -11.807      0.000      -2.531      -1.810\n",
       "Country[T.Finland]                 1.2938      0.181      7.166      0.000       0.940       1.648\n",
       "Country[T.France]               3.173e-13    1.1e-14     28.737      0.000    2.96e-13    3.39e-13\n",
       "Country[T.Georgia]                -3.1921      0.186    -17.124      0.000      -3.557      -2.827\n",
       "Country[T.Germany]                 5.0942      0.180     28.270      0.000       4.741       5.447\n",
       "Country[T.Guatemala]              -1.9229      0.184    -10.427      0.000      -2.284      -1.561\n",
       "Country[T.Honduras]               -2.6488      0.191    -13.892      0.000      -3.022      -2.275\n",
       "Country[T.Hong Kong]               1.7552      0.181      9.704      0.000       1.401       2.110\n",
       "Country[T.Hungary]                 2.1376      0.181     11.816      0.000       1.783       2.492\n",
       "Country[T.Indonesia]            1.294e-13   4.54e-15     28.485      0.000     1.2e-13    1.38e-13\n",
       "Country[T.Iran]                   -1.7596      0.182     -9.668      0.000      -2.116      -1.403\n",
       "Country[T.Ireland]                 1.2602      0.181      6.969      0.000       0.906       1.615\n",
       "Country[T.Israel]               9.525e-14   3.48e-15     27.354      0.000    8.84e-14    1.02e-13\n",
       "Country[T.Italy]                   4.1651      0.180     23.118      0.000       3.812       4.518\n",
       "Country[T.Japan]                   3.0714      0.181     17.014      0.000       2.718       3.425\n",
       "Country[T.Kazakhstan]             -1.0850      0.181     -5.984      0.000      -1.440      -0.730\n",
       "Country[T.Kuwait]                 -1.6972      0.183     -9.296      0.000      -2.055      -1.339\n",
       "Country[T.Lithuania]               1.0807      0.181      5.987      0.000       0.727       1.435\n",
       "Country[T.Malta]                  -2.4130      0.185    -13.064      0.000      -2.775      -2.051\n",
       "Country[T.Mexico]                  2.9303      0.181     16.214      0.000       2.576       3.285\n",
       "Country[T.Morocco]                -0.3465      0.181     -1.910      0.056      -0.702       0.009\n",
       "Country[T.Netherlands]             3.8924      0.180     21.598      0.000       3.539       4.246\n",
       "Country[T.New Zealand]             0.1239      0.181      0.685      0.493      -0.231       0.479\n",
       "Country[T.Nicaragua]              -3.1130      0.187    -16.606      0.000      -3.480      -2.746\n",
       "Country[T.Niger]                  -5.8720      0.211    -27.793      0.000      -6.286      -5.458\n",
       "Country[T.Norway]                  0.6430      0.181      3.555      0.000       0.288       0.998\n",
       "Country[T.Oman]                   -0.5776      0.182     -3.177      0.001      -0.934      -0.221\n",
       "Country[T.Panama]                 -2.6683      0.185    -14.440      0.000      -3.031      -2.306\n",
       "Country[T.Paraguay]               -3.0747      0.188    -16.319      0.000      -3.444      -2.705\n",
       "Country[T.Peru]                   -0.5314      0.181     -2.937      0.003      -0.886      -0.177\n",
       "Country[T.Poland]                  3.4156      0.180     18.928      0.000       3.062       3.769\n",
       "Country[T.Portugal]                2.0594      0.181     11.395      0.000       1.705       2.414\n",
       "Country[T.Qatar]                  -2.7915      0.186    -15.017      0.000      -3.156      -2.427\n",
       "Country[T.Romania]                 1.8221      0.181     10.086      0.000       1.468       2.176\n",
       "Country[T.Russia]                  2.2910      0.180     12.705      0.000       1.938       2.644\n",
       "Country[T.Saudi Arabia]           -0.6390      0.182     -3.507      0.000      -0.996      -0.282\n",
       "Country[T.Senegal]                -4.5824      0.195    -23.544      0.000      -4.964      -4.201\n",
       "Country[T.Singapore]               1.9803      0.181     10.960      0.000       1.626       2.334\n",
       "Country[T.Slovak Republic]         1.7124      0.181      9.477      0.000       1.358       2.067\n",
       "Country[T.Slovenia]                1.1242      0.181      6.218      0.000       0.770       1.479\n",
       "Country[T.South Africa]        -2.227e-16   1.38e-16     -1.615      0.106   -4.93e-16    4.75e-17\n",
       "Country[T.South Korea]             2.9783      0.181     16.485      0.000       2.624       3.332\n",
       "Country[T.Spain]                   3.6730      0.180     20.389      0.000       3.320       4.026\n",
       "Country[T.Sweden]                  2.4385      0.180     13.527      0.000       2.085       2.792\n",
       "Country[T.Thailand]                2.7906      0.180     15.475      0.000       2.437       3.144\n",
       "Country[T.Togo]                   -5.1615      0.204    -25.259      0.000      -5.562      -4.761\n",
       "Country[T.Trinidad and Tobago]   5.71e-16   9.77e-17      5.846      0.000     3.8e-16    7.62e-16\n",
       "Country[T.Tunisia]                -0.7914      0.184     -4.302      0.000      -1.152      -0.431\n",
       "Country[T.Turkey]                  2.6568      0.180     14.741      0.000       2.304       3.010\n",
       "Country[T.U.A.E.]                  2.3269      0.180     12.897      0.000       1.973       2.681\n",
       "Country[T.United States]           4.7633      0.180     26.430      0.000       4.410       5.117\n",
       "Country[T.Uruguay]                -2.5055      0.185    -13.542      0.000      -2.868      -2.143\n",
       "Country[T.Yemen]                  -5.7680      0.233    -24.776      0.000      -6.224      -5.312\n",
       "Country[T.Yugoslavia]              0.5944      0.181      3.287      0.001       0.240       0.949\n",
       "MEDIAN_TIMSSDIV1000:PORTION_HS    -0.0118      0.013     -0.940      0.347      -0.036       0.013\n",
       "ind1990ddx                         0.0013      0.000      7.849      0.000       0.001       0.002\n",
       "==============================================================================\n",
       "Omnibus:                     1223.593   Durbin-Watson:                   1.522\n",
       "Prob(Omnibus):                  0.000   Jarque-Bera (JB):             2748.502\n",
       "Skew:                          -0.287   Prob(JB):                         0.00\n",
       "Kurtosis:                       4.439   Cond. No.                     2.76e+19\n",
       "==============================================================================\n",
       "\n",
       "Notes:\n",
       "[1] Standard Errors assume that the covariance matrix of the errors is correctly specified.\n",
       "[2] The smallest eigenvalue is 2.24e-30. This might indicate that there are\n",
       "strong multicollinearity problems or that the design matrix is singular.\n",
       "\"\"\""
      ]
     },
     "execution_count": 78,
     "metadata": {},
     "output_type": "execute_result"
    }
   ],
   "source": [
    "exports_1_res.summary()"
   ]
  },
  {
   "cell_type": "markdown",
   "metadata": {},
   "source": [
    "$$ \\log(V_{ci}) \\sim \\mathrm{PIRLS}_{c}/1000:\\mathrm{highschool}_i + i + c $$"
   ]
  },
  {
   "cell_type": "code",
   "execution_count": 79,
   "metadata": {},
   "outputs": [
    {
     "data": {
      "text/plain": [
       "Intercept                         8.083522e+00\n",
       "Country[T.Armenia]                8.496410e-13\n",
       "Country[T.Australia]              1.729875e+00\n",
       "Country[T.Austria]                2.847525e+00\n",
       "Country[T.Azerbaijan]            -3.343905e+00\n",
       "                                      ...     \n",
       "Country[T.Uruguay]               -2.504413e+00\n",
       "Country[T.Yemen]                  0.000000e+00\n",
       "Country[T.Yugoslavia]             0.000000e+00\n",
       "MEDIAN_PIRLSDIV1000:PORTION_HS   -1.505306e-02\n",
       "ind1990ddx                        1.132172e-03\n",
       "Length: 79, dtype: float64"
      ]
     },
     "execution_count": 79,
     "metadata": {},
     "output_type": "execute_result"
    }
   ],
   "source": [
    "mod = smf.ols('log_tradeflow ~ MEDIAN_PIRLSDIV1000: PORTION_HS + ind1990ddx + Country', data=exports)\n",
    "exports_1_res = mod.fit()\n",
    "exports_1_res.params"
   ]
  },
  {
   "cell_type": "markdown",
   "metadata": {},
   "source": [
    "**R-squared is 0.528 and Intercept 8.083522**"
   ]
  },
  {
   "cell_type": "code",
   "execution_count": 80,
   "metadata": {},
   "outputs": [
    {
     "data": {
      "text/html": [
       "<table class=\"simpletable\">\n",
       "<caption>OLS Regression Results</caption>\n",
       "<tr>\n",
       "  <th>Dep. Variable:</th>      <td>log_tradeflow</td>  <th>  R-squared:         </th> <td>   0.528</td> \n",
       "</tr>\n",
       "<tr>\n",
       "  <th>Model:</th>                   <td>OLS</td>       <th>  Adj. R-squared:    </th> <td>   0.527</td> \n",
       "</tr>\n",
       "<tr>\n",
       "  <th>Method:</th>             <td>Least Squares</td>  <th>  F-statistic:       </th> <td>   432.8</td> \n",
       "</tr>\n",
       "<tr>\n",
       "  <th>Date:</th>             <td>Mon, 28 Dec 2020</td> <th>  Prob (F-statistic):</th>  <td>  0.00</td>  \n",
       "</tr>\n",
       "<tr>\n",
       "  <th>Time:</th>                 <td>20:14:40</td>     <th>  Log-Likelihood:    </th> <td> -62968.</td> \n",
       "</tr>\n",
       "<tr>\n",
       "  <th>No. Observations:</th>      <td> 26401</td>      <th>  AIC:               </th> <td>1.261e+05</td>\n",
       "</tr>\n",
       "<tr>\n",
       "  <th>Df Residuals:</th>          <td> 26332</td>      <th>  BIC:               </th> <td>1.266e+05</td>\n",
       "</tr>\n",
       "<tr>\n",
       "  <th>Df Model:</th>              <td>    68</td>      <th>                     </th>     <td> </td>    \n",
       "</tr>\n",
       "<tr>\n",
       "  <th>Covariance Type:</th>      <td>nonrobust</td>    <th>                     </th>     <td> </td>    \n",
       "</tr>\n",
       "</table>\n",
       "<table class=\"simpletable\">\n",
       "<tr>\n",
       "                 <td></td>                   <th>coef</th>     <th>std err</th>      <th>t</th>      <th>P>|t|</th>  <th>[0.025</th>    <th>0.975]</th>  \n",
       "</tr>\n",
       "<tr>\n",
       "  <th>Intercept</th>                      <td>    8.0835</td> <td>    0.132</td> <td>   61.416</td> <td> 0.000</td> <td>    7.826</td> <td>    8.342</td>\n",
       "</tr>\n",
       "<tr>\n",
       "  <th>Country[T.Armenia]</th>             <td> 8.496e-13</td> <td> 2.55e-14</td> <td>   33.369</td> <td> 0.000</td> <td>    8e-13</td> <td>    9e-13</td>\n",
       "</tr>\n",
       "<tr>\n",
       "  <th>Country[T.Australia]</th>           <td>    1.7299</td> <td>    0.179</td> <td>    9.648</td> <td> 0.000</td> <td>    1.378</td> <td>    2.081</td>\n",
       "</tr>\n",
       "<tr>\n",
       "  <th>Country[T.Austria]</th>             <td>    2.8475</td> <td>    0.179</td> <td>   15.890</td> <td> 0.000</td> <td>    2.496</td> <td>    3.199</td>\n",
       "</tr>\n",
       "<tr>\n",
       "  <th>Country[T.Azerbaijan]</th>          <td>   -3.3439</td> <td>    0.187</td> <td>  -17.837</td> <td> 0.000</td> <td>   -3.711</td> <td>   -2.976</td>\n",
       "</tr>\n",
       "<tr>\n",
       "  <th>Country[T.Bahrain]</th>             <td>-2.121e-15</td> <td>  2.5e-16</td> <td>   -8.492</td> <td> 0.000</td> <td>-2.61e-15</td> <td>-1.63e-15</td>\n",
       "</tr>\n",
       "<tr>\n",
       "  <th>Country[T.Benin]</th>               <td>   -6.1546</td> <td>    0.226</td> <td>  -27.261</td> <td> 0.000</td> <td>   -6.597</td> <td>   -5.712</td>\n",
       "</tr>\n",
       "<tr>\n",
       "  <th>Country[T.Brazil]</th>              <td>    1.9095</td> <td>    0.179</td> <td>   10.665</td> <td> 0.000</td> <td>    1.559</td> <td>    2.260</td>\n",
       "</tr>\n",
       "<tr>\n",
       "  <th>Country[T.Bulgaria]</th>            <td>    1.1494</td> <td>    0.179</td> <td>    6.414</td> <td> 0.000</td> <td>    0.798</td> <td>    1.501</td>\n",
       "</tr>\n",
       "<tr>\n",
       "  <th>Country[T.Burkina Faso]</th>        <td>   -5.8327</td> <td>    0.210</td> <td>  -27.740</td> <td> 0.000</td> <td>   -6.245</td> <td>   -5.421</td>\n",
       "</tr>\n",
       "<tr>\n",
       "  <th>Country[T.Burundi]</th>             <td>   -6.4694</td> <td>    0.269</td> <td>  -24.033</td> <td> 0.000</td> <td>   -6.997</td> <td>   -5.942</td>\n",
       "</tr>\n",
       "<tr>\n",
       "  <th>Country[T.Cameroon]</th>            <td>   -4.3895</td> <td>    0.193</td> <td>  -22.732</td> <td> 0.000</td> <td>   -4.768</td> <td>   -4.011</td>\n",
       "</tr>\n",
       "<tr>\n",
       "  <th>Country[T.Canada]</th>              <td>    3.1658</td> <td>    0.179</td> <td>   17.694</td> <td> 0.000</td> <td>    2.815</td> <td>    3.516</td>\n",
       "</tr>\n",
       "<tr>\n",
       "  <th>Country[T.Chad]</th>                <td>   -6.5071</td> <td>    0.259</td> <td>  -25.111</td> <td> 0.000</td> <td>   -7.015</td> <td>   -5.999</td>\n",
       "</tr>\n",
       "<tr>\n",
       "  <th>Country[T.Chile]</th>               <td>    0.0613</td> <td>    0.180</td> <td>    0.341</td> <td> 0.733</td> <td>   -0.291</td> <td>    0.414</td>\n",
       "</tr>\n",
       "<tr>\n",
       "  <th>Country[T.Colombia]</th>            <td>   -0.0954</td> <td>    0.180</td> <td>   -0.531</td> <td> 0.596</td> <td>   -0.448</td> <td>    0.257</td>\n",
       "</tr>\n",
       "<tr>\n",
       "  <th>Country[T.Congo]</th>               <td>   -5.0185</td> <td>    0.212</td> <td>  -23.707</td> <td> 0.000</td> <td>   -5.433</td> <td>   -4.604</td>\n",
       "</tr>\n",
       "<tr>\n",
       "  <th>Country[T.Costa Rica]</th>          <td>   -1.3371</td> <td>    0.181</td> <td>   -7.385</td> <td> 0.000</td> <td>   -1.692</td> <td>   -0.982</td>\n",
       "</tr>\n",
       "<tr>\n",
       "  <th>Country[T.Cote d'Ivoire]</th>       <td>   -2.5875</td> <td>    0.185</td> <td>  -14.018</td> <td> 0.000</td> <td>   -2.949</td> <td>   -2.226</td>\n",
       "</tr>\n",
       "<tr>\n",
       "  <th>Country[T.Croatia]</th>             <td>    0.6035</td> <td>    0.180</td> <td>    3.361</td> <td> 0.001</td> <td>    0.252</td> <td>    0.955</td>\n",
       "</tr>\n",
       "<tr>\n",
       "  <th>Country[T.Czech Republic]</th>      <td>    2.7969</td> <td>    0.179</td> <td>   15.623</td> <td> 0.000</td> <td>    2.446</td> <td>    3.148</td>\n",
       "</tr>\n",
       "<tr>\n",
       "  <th>Country[T.Denmark]</th>             <td>    2.2413</td> <td>    0.179</td> <td>   12.505</td> <td> 0.000</td> <td>    1.890</td> <td>    2.593</td>\n",
       "</tr>\n",
       "<tr>\n",
       "  <th>Country[T.Dominican Republic]</th>  <td>   -2.3578</td> <td>    0.185</td> <td>  -12.755</td> <td> 0.000</td> <td>   -2.720</td> <td>   -1.995</td>\n",
       "</tr>\n",
       "<tr>\n",
       "  <th>Country[T.Ecuador]</th>             <td>   -2.1690</td> <td>    0.183</td> <td>  -11.884</td> <td> 0.000</td> <td>   -2.527</td> <td>   -1.811</td>\n",
       "</tr>\n",
       "<tr>\n",
       "  <th>Country[T.Finland]</th>             <td>    1.2953</td> <td>    0.179</td> <td>    7.226</td> <td> 0.000</td> <td>    0.944</td> <td>    1.647</td>\n",
       "</tr>\n",
       "<tr>\n",
       "  <th>Country[T.France]</th>              <td>    4.0781</td> <td>    0.179</td> <td>   22.797</td> <td> 0.000</td> <td>    3.727</td> <td>    4.429</td>\n",
       "</tr>\n",
       "<tr>\n",
       "  <th>Country[T.Georgia]</th>             <td>   -3.1898</td> <td>    0.185</td> <td>  -17.233</td> <td> 0.000</td> <td>   -3.553</td> <td>   -2.827</td>\n",
       "</tr>\n",
       "<tr>\n",
       "  <th>Country[T.Germany]</th>             <td>    5.0949</td> <td>    0.179</td> <td>   28.478</td> <td> 0.000</td> <td>    4.744</td> <td>    5.446</td>\n",
       "</tr>\n",
       "<tr>\n",
       "  <th>Country[T.Guatemala]</th>           <td>   -1.9203</td> <td>    0.183</td> <td>  -10.488</td> <td> 0.000</td> <td>   -2.279</td> <td>   -1.561</td>\n",
       "</tr>\n",
       "<tr>\n",
       "  <th>Country[T.Honduras]</th>            <td>   -2.6478</td> <td>    0.189</td> <td>  -13.985</td> <td> 0.000</td> <td>   -3.019</td> <td>   -2.277</td>\n",
       "</tr>\n",
       "<tr>\n",
       "  <th>Country[T.Hong Kong]</th>           <td>    1.7547</td> <td>    0.179</td> <td>    9.777</td> <td> 0.000</td> <td>    1.403</td> <td>    2.106</td>\n",
       "</tr>\n",
       "<tr>\n",
       "  <th>Country[T.Hungary]</th>             <td>    2.1390</td> <td>    0.180</td> <td>   11.908</td> <td> 0.000</td> <td>    1.787</td> <td>    2.491</td>\n",
       "</tr>\n",
       "<tr>\n",
       "  <th>Country[T.Indonesia]</th>           <td>    2.0043</td> <td>    0.179</td> <td>   11.195</td> <td> 0.000</td> <td>    1.653</td> <td>    2.355</td>\n",
       "</tr>\n",
       "<tr>\n",
       "  <th>Country[T.Iran]</th>                <td>   -1.7594</td> <td>    0.181</td> <td>   -9.735</td> <td> 0.000</td> <td>   -2.114</td> <td>   -1.405</td>\n",
       "</tr>\n",
       "<tr>\n",
       "  <th>Country[T.Ireland]</th>             <td>    1.2617</td> <td>    0.180</td> <td>    7.027</td> <td> 0.000</td> <td>    0.910</td> <td>    1.614</td>\n",
       "</tr>\n",
       "<tr>\n",
       "  <th>Country[T.Israel]</th>              <td>    0.3299</td> <td>    0.180</td> <td>    1.833</td> <td> 0.067</td> <td>   -0.023</td> <td>    0.683</td>\n",
       "</tr>\n",
       "<tr>\n",
       "  <th>Country[T.Italy]</th>               <td>    4.1667</td> <td>    0.179</td> <td>   23.290</td> <td> 0.000</td> <td>    3.816</td> <td>    4.517</td>\n",
       "</tr>\n",
       "<tr>\n",
       "  <th>Country[T.Japan]</th>               <td> 2.216e-17</td> <td> 1.07e-16</td> <td>    0.208</td> <td> 0.836</td> <td>-1.87e-16</td> <td> 2.31e-16</td>\n",
       "</tr>\n",
       "<tr>\n",
       "  <th>Country[T.Kazakhstan]</th>          <td>-4.132e-15</td> <td> 1.45e-16</td> <td>  -28.473</td> <td> 0.000</td> <td>-4.42e-15</td> <td>-3.85e-15</td>\n",
       "</tr>\n",
       "<tr>\n",
       "  <th>Country[T.Kuwait]</th>              <td>   -1.6957</td> <td>    0.181</td> <td>   -9.354</td> <td> 0.000</td> <td>   -2.051</td> <td>   -1.340</td>\n",
       "</tr>\n",
       "<tr>\n",
       "  <th>Country[T.Lithuania]</th>           <td>    1.0805</td> <td>    0.179</td> <td>    6.029</td> <td> 0.000</td> <td>    0.729</td> <td>    1.432</td>\n",
       "</tr>\n",
       "<tr>\n",
       "  <th>Country[T.Malta]</th>               <td>   -2.4131</td> <td>    0.183</td> <td>  -13.160</td> <td> 0.000</td> <td>   -2.772</td> <td>   -2.054</td>\n",
       "</tr>\n",
       "<tr>\n",
       "  <th>Country[T.Mexico]</th>              <td>    2.9302</td> <td>    0.179</td> <td>   16.329</td> <td> 0.000</td> <td>    2.578</td> <td>    3.282</td>\n",
       "</tr>\n",
       "<tr>\n",
       "  <th>Country[T.Morocco]</th>             <td>   -0.3503</td> <td>    0.180</td> <td>   -1.944</td> <td> 0.052</td> <td>   -0.703</td> <td>    0.003</td>\n",
       "</tr>\n",
       "<tr>\n",
       "  <th>Country[T.Netherlands]</th>         <td>    3.8927</td> <td>    0.179</td> <td>   21.758</td> <td> 0.000</td> <td>    3.542</td> <td>    4.243</td>\n",
       "</tr>\n",
       "<tr>\n",
       "  <th>Country[T.New Zealand]</th>         <td>    0.1265</td> <td>    0.180</td> <td>    0.704</td> <td> 0.482</td> <td>   -0.226</td> <td>    0.479</td>\n",
       "</tr>\n",
       "<tr>\n",
       "  <th>Country[T.Nicaragua]</th>           <td>   -3.1110</td> <td>    0.186</td> <td>  -16.715</td> <td> 0.000</td> <td>   -3.476</td> <td>   -2.746</td>\n",
       "</tr>\n",
       "<tr>\n",
       "  <th>Country[T.Niger]</th>               <td>   -5.8699</td> <td>    0.210</td> <td>  -27.981</td> <td> 0.000</td> <td>   -6.281</td> <td>   -5.459</td>\n",
       "</tr>\n",
       "<tr>\n",
       "  <th>Country[T.Norway]</th>              <td>    0.6435</td> <td>    0.180</td> <td>    3.583</td> <td> 0.000</td> <td>    0.292</td> <td>    0.996</td>\n",
       "</tr>\n",
       "<tr>\n",
       "  <th>Country[T.Oman]</th>                <td>   -0.5785</td> <td>    0.181</td> <td>   -3.205</td> <td> 0.001</td> <td>   -0.932</td> <td>   -0.225</td>\n",
       "</tr>\n",
       "<tr>\n",
       "  <th>Country[T.Panama]</th>              <td>   -2.6651</td> <td>    0.183</td> <td>  -14.526</td> <td> 0.000</td> <td>   -3.025</td> <td>   -2.305</td>\n",
       "</tr>\n",
       "<tr>\n",
       "  <th>Country[T.Paraguay]</th>            <td>   -3.0730</td> <td>    0.187</td> <td>  -16.428</td> <td> 0.000</td> <td>   -3.440</td> <td>   -2.706</td>\n",
       "</tr>\n",
       "<tr>\n",
       "  <th>Country[T.Peru]</th>                <td>   -0.5303</td> <td>    0.180</td> <td>   -2.952</td> <td> 0.003</td> <td>   -0.882</td> <td>   -0.178</td>\n",
       "</tr>\n",
       "<tr>\n",
       "  <th>Country[T.Poland]</th>              <td>    3.4177</td> <td>    0.179</td> <td>   19.072</td> <td> 0.000</td> <td>    3.066</td> <td>    3.769</td>\n",
       "</tr>\n",
       "<tr>\n",
       "  <th>Country[T.Portugal]</th>            <td>    2.0602</td> <td>    0.179</td> <td>   11.482</td> <td> 0.000</td> <td>    1.708</td> <td>    2.412</td>\n",
       "</tr>\n",
       "<tr>\n",
       "  <th>Country[T.Qatar]</th>               <td>   -2.7899</td> <td>    0.185</td> <td>  -15.115</td> <td> 0.000</td> <td>   -3.152</td> <td>   -2.428</td>\n",
       "</tr>\n",
       "<tr>\n",
       "  <th>Country[T.Romania]</th>             <td>    1.8228</td> <td>    0.179</td> <td>   10.161</td> <td> 0.000</td> <td>    1.471</td> <td>    2.174</td>\n",
       "</tr>\n",
       "<tr>\n",
       "  <th>Country[T.Russia]</th>              <td>    2.2926</td> <td>    0.179</td> <td>   12.804</td> <td> 0.000</td> <td>    1.942</td> <td>    2.644</td>\n",
       "</tr>\n",
       "<tr>\n",
       "  <th>Country[T.Saudi Arabia]</th>        <td>   -0.6382</td> <td>    0.181</td> <td>   -3.527</td> <td> 0.000</td> <td>   -0.993</td> <td>   -0.284</td>\n",
       "</tr>\n",
       "<tr>\n",
       "  <th>Country[T.Senegal]</th>             <td>   -4.5831</td> <td>    0.193</td> <td>  -23.714</td> <td> 0.000</td> <td>   -4.962</td> <td>   -4.204</td>\n",
       "</tr>\n",
       "<tr>\n",
       "  <th>Country[T.Singapore]</th>           <td>    1.9792</td> <td>    0.179</td> <td>   11.041</td> <td> 0.000</td> <td>    1.628</td> <td>    2.331</td>\n",
       "</tr>\n",
       "<tr>\n",
       "  <th>Country[T.Slovak Republic]</th>     <td>    1.7140</td> <td>    0.179</td> <td>    9.553</td> <td> 0.000</td> <td>    1.362</td> <td>    2.066</td>\n",
       "</tr>\n",
       "<tr>\n",
       "  <th>Country[T.Slovenia]</th>            <td>    1.1254</td> <td>    0.180</td> <td>    6.269</td> <td> 0.000</td> <td>    0.774</td> <td>    1.477</td>\n",
       "</tr>\n",
       "<tr>\n",
       "  <th>Country[T.South Africa]</th>        <td>    1.4313</td> <td>    0.179</td> <td>    8.000</td> <td> 0.000</td> <td>    1.081</td> <td>    1.782</td>\n",
       "</tr>\n",
       "<tr>\n",
       "  <th>Country[T.South Korea]</th>         <td>-2.138e-16</td> <td> 3.22e-17</td> <td>   -6.642</td> <td> 0.000</td> <td>-2.77e-16</td> <td>-1.51e-16</td>\n",
       "</tr>\n",
       "<tr>\n",
       "  <th>Country[T.Spain]</th>               <td>    3.6741</td> <td>    0.179</td> <td>   20.540</td> <td> 0.000</td> <td>    3.324</td> <td>    4.025</td>\n",
       "</tr>\n",
       "<tr>\n",
       "  <th>Country[T.Sweden]</th>              <td>    2.4402</td> <td>    0.179</td> <td>   13.632</td> <td> 0.000</td> <td>    2.089</td> <td>    2.791</td>\n",
       "</tr>\n",
       "<tr>\n",
       "  <th>Country[T.Thailand]</th>            <td> 1.208e-16</td> <td> 3.91e-17</td> <td>    3.088</td> <td> 0.002</td> <td> 4.41e-17</td> <td> 1.98e-16</td>\n",
       "</tr>\n",
       "<tr>\n",
       "  <th>Country[T.Togo]</th>                <td>   -5.1637</td> <td>    0.203</td> <td>  -25.447</td> <td> 0.000</td> <td>   -5.561</td> <td>   -4.766</td>\n",
       "</tr>\n",
       "<tr>\n",
       "  <th>Country[T.Trinidad and Tobago]</th> <td>   -4.8006</td> <td>    0.205</td> <td>  -23.393</td> <td> 0.000</td> <td>   -5.203</td> <td>   -4.398</td>\n",
       "</tr>\n",
       "<tr>\n",
       "  <th>Country[T.Tunisia]</th>             <td> 3.464e-16</td> <td> 2.57e-17</td> <td>   13.485</td> <td> 0.000</td> <td> 2.96e-16</td> <td> 3.97e-16</td>\n",
       "</tr>\n",
       "<tr>\n",
       "  <th>Country[T.Turkey]</th>              <td> 1.953e-16</td> <td> 3.97e-17</td> <td>    4.922</td> <td> 0.000</td> <td> 1.18e-16</td> <td> 2.73e-16</td>\n",
       "</tr>\n",
       "<tr>\n",
       "  <th>Country[T.U.A.E.]</th>              <td>    2.3260</td> <td>    0.179</td> <td>   12.984</td> <td> 0.000</td> <td>    1.975</td> <td>    2.677</td>\n",
       "</tr>\n",
       "<tr>\n",
       "  <th>Country[T.United States]</th>       <td>    4.7643</td> <td>    0.179</td> <td>   26.626</td> <td> 0.000</td> <td>    4.414</td> <td>    5.115</td>\n",
       "</tr>\n",
       "<tr>\n",
       "  <th>Country[T.Uruguay]</th>             <td>   -2.5044</td> <td>    0.184</td> <td>  -13.633</td> <td> 0.000</td> <td>   -2.864</td> <td>   -2.144</td>\n",
       "</tr>\n",
       "<tr>\n",
       "  <th>Country[T.Yemen]</th>               <td>         0</td> <td>        0</td> <td>      nan</td> <td>   nan</td> <td>        0</td> <td>        0</td>\n",
       "</tr>\n",
       "<tr>\n",
       "  <th>Country[T.Yugoslavia]</th>          <td>         0</td> <td>        0</td> <td>      nan</td> <td>   nan</td> <td>        0</td> <td>        0</td>\n",
       "</tr>\n",
       "<tr>\n",
       "  <th>MEDIAN_PIRLSDIV1000:PORTION_HS</th> <td>   -0.0151</td> <td>    0.012</td> <td>   -1.233</td> <td> 0.218</td> <td>   -0.039</td> <td>    0.009</td>\n",
       "</tr>\n",
       "<tr>\n",
       "  <th>ind1990ddx</th>                     <td>    0.0011</td> <td>    0.000</td> <td>    6.762</td> <td> 0.000</td> <td>    0.001</td> <td>    0.001</td>\n",
       "</tr>\n",
       "</table>\n",
       "<table class=\"simpletable\">\n",
       "<tr>\n",
       "  <th>Omnibus:</th>       <td>1233.449</td> <th>  Durbin-Watson:     </th> <td>   1.541</td>\n",
       "</tr>\n",
       "<tr>\n",
       "  <th>Prob(Omnibus):</th>  <td> 0.000</td>  <th>  Jarque-Bera (JB):  </th> <td>2852.465</td>\n",
       "</tr>\n",
       "<tr>\n",
       "  <th>Skew:</th>           <td>-0.293</td>  <th>  Prob(JB):          </th> <td>    0.00</td>\n",
       "</tr>\n",
       "<tr>\n",
       "  <th>Kurtosis:</th>       <td> 4.500</td>  <th>  Cond. No.          </th> <td>1.10e+20</td>\n",
       "</tr>\n",
       "</table><br/><br/>Notes:<br/>[1] Standard Errors assume that the covariance matrix of the errors is correctly specified.<br/>[2] The smallest eigenvalue is 1.36e-31. This might indicate that there are<br/>strong multicollinearity problems or that the design matrix is singular."
      ],
      "text/plain": [
       "<class 'statsmodels.iolib.summary.Summary'>\n",
       "\"\"\"\n",
       "                            OLS Regression Results                            \n",
       "==============================================================================\n",
       "Dep. Variable:          log_tradeflow   R-squared:                       0.528\n",
       "Model:                            OLS   Adj. R-squared:                  0.527\n",
       "Method:                 Least Squares   F-statistic:                     432.8\n",
       "Date:                Mon, 28 Dec 2020   Prob (F-statistic):               0.00\n",
       "Time:                        20:14:40   Log-Likelihood:                -62968.\n",
       "No. Observations:               26401   AIC:                         1.261e+05\n",
       "Df Residuals:                   26332   BIC:                         1.266e+05\n",
       "Df Model:                          68                                         \n",
       "Covariance Type:            nonrobust                                         \n",
       "==================================================================================================\n",
       "                                     coef    std err          t      P>|t|      [0.025      0.975]\n",
       "--------------------------------------------------------------------------------------------------\n",
       "Intercept                          8.0835      0.132     61.416      0.000       7.826       8.342\n",
       "Country[T.Armenia]              8.496e-13   2.55e-14     33.369      0.000       8e-13       9e-13\n",
       "Country[T.Australia]               1.7299      0.179      9.648      0.000       1.378       2.081\n",
       "Country[T.Austria]                 2.8475      0.179     15.890      0.000       2.496       3.199\n",
       "Country[T.Azerbaijan]             -3.3439      0.187    -17.837      0.000      -3.711      -2.976\n",
       "Country[T.Bahrain]             -2.121e-15    2.5e-16     -8.492      0.000   -2.61e-15   -1.63e-15\n",
       "Country[T.Benin]                  -6.1546      0.226    -27.261      0.000      -6.597      -5.712\n",
       "Country[T.Brazil]                  1.9095      0.179     10.665      0.000       1.559       2.260\n",
       "Country[T.Bulgaria]                1.1494      0.179      6.414      0.000       0.798       1.501\n",
       "Country[T.Burkina Faso]           -5.8327      0.210    -27.740      0.000      -6.245      -5.421\n",
       "Country[T.Burundi]                -6.4694      0.269    -24.033      0.000      -6.997      -5.942\n",
       "Country[T.Cameroon]               -4.3895      0.193    -22.732      0.000      -4.768      -4.011\n",
       "Country[T.Canada]                  3.1658      0.179     17.694      0.000       2.815       3.516\n",
       "Country[T.Chad]                   -6.5071      0.259    -25.111      0.000      -7.015      -5.999\n",
       "Country[T.Chile]                   0.0613      0.180      0.341      0.733      -0.291       0.414\n",
       "Country[T.Colombia]               -0.0954      0.180     -0.531      0.596      -0.448       0.257\n",
       "Country[T.Congo]                  -5.0185      0.212    -23.707      0.000      -5.433      -4.604\n",
       "Country[T.Costa Rica]             -1.3371      0.181     -7.385      0.000      -1.692      -0.982\n",
       "Country[T.Cote d'Ivoire]          -2.5875      0.185    -14.018      0.000      -2.949      -2.226\n",
       "Country[T.Croatia]                 0.6035      0.180      3.361      0.001       0.252       0.955\n",
       "Country[T.Czech Republic]          2.7969      0.179     15.623      0.000       2.446       3.148\n",
       "Country[T.Denmark]                 2.2413      0.179     12.505      0.000       1.890       2.593\n",
       "Country[T.Dominican Republic]     -2.3578      0.185    -12.755      0.000      -2.720      -1.995\n",
       "Country[T.Ecuador]                -2.1690      0.183    -11.884      0.000      -2.527      -1.811\n",
       "Country[T.Finland]                 1.2953      0.179      7.226      0.000       0.944       1.647\n",
       "Country[T.France]                  4.0781      0.179     22.797      0.000       3.727       4.429\n",
       "Country[T.Georgia]                -3.1898      0.185    -17.233      0.000      -3.553      -2.827\n",
       "Country[T.Germany]                 5.0949      0.179     28.478      0.000       4.744       5.446\n",
       "Country[T.Guatemala]              -1.9203      0.183    -10.488      0.000      -2.279      -1.561\n",
       "Country[T.Honduras]               -2.6478      0.189    -13.985      0.000      -3.019      -2.277\n",
       "Country[T.Hong Kong]               1.7547      0.179      9.777      0.000       1.403       2.106\n",
       "Country[T.Hungary]                 2.1390      0.180     11.908      0.000       1.787       2.491\n",
       "Country[T.Indonesia]               2.0043      0.179     11.195      0.000       1.653       2.355\n",
       "Country[T.Iran]                   -1.7594      0.181     -9.735      0.000      -2.114      -1.405\n",
       "Country[T.Ireland]                 1.2617      0.180      7.027      0.000       0.910       1.614\n",
       "Country[T.Israel]                  0.3299      0.180      1.833      0.067      -0.023       0.683\n",
       "Country[T.Italy]                   4.1667      0.179     23.290      0.000       3.816       4.517\n",
       "Country[T.Japan]                2.216e-17   1.07e-16      0.208      0.836   -1.87e-16    2.31e-16\n",
       "Country[T.Kazakhstan]          -4.132e-15   1.45e-16    -28.473      0.000   -4.42e-15   -3.85e-15\n",
       "Country[T.Kuwait]                 -1.6957      0.181     -9.354      0.000      -2.051      -1.340\n",
       "Country[T.Lithuania]               1.0805      0.179      6.029      0.000       0.729       1.432\n",
       "Country[T.Malta]                  -2.4131      0.183    -13.160      0.000      -2.772      -2.054\n",
       "Country[T.Mexico]                  2.9302      0.179     16.329      0.000       2.578       3.282\n",
       "Country[T.Morocco]                -0.3503      0.180     -1.944      0.052      -0.703       0.003\n",
       "Country[T.Netherlands]             3.8927      0.179     21.758      0.000       3.542       4.243\n",
       "Country[T.New Zealand]             0.1265      0.180      0.704      0.482      -0.226       0.479\n",
       "Country[T.Nicaragua]              -3.1110      0.186    -16.715      0.000      -3.476      -2.746\n",
       "Country[T.Niger]                  -5.8699      0.210    -27.981      0.000      -6.281      -5.459\n",
       "Country[T.Norway]                  0.6435      0.180      3.583      0.000       0.292       0.996\n",
       "Country[T.Oman]                   -0.5785      0.181     -3.205      0.001      -0.932      -0.225\n",
       "Country[T.Panama]                 -2.6651      0.183    -14.526      0.000      -3.025      -2.305\n",
       "Country[T.Paraguay]               -3.0730      0.187    -16.428      0.000      -3.440      -2.706\n",
       "Country[T.Peru]                   -0.5303      0.180     -2.952      0.003      -0.882      -0.178\n",
       "Country[T.Poland]                  3.4177      0.179     19.072      0.000       3.066       3.769\n",
       "Country[T.Portugal]                2.0602      0.179     11.482      0.000       1.708       2.412\n",
       "Country[T.Qatar]                  -2.7899      0.185    -15.115      0.000      -3.152      -2.428\n",
       "Country[T.Romania]                 1.8228      0.179     10.161      0.000       1.471       2.174\n",
       "Country[T.Russia]                  2.2926      0.179     12.804      0.000       1.942       2.644\n",
       "Country[T.Saudi Arabia]           -0.6382      0.181     -3.527      0.000      -0.993      -0.284\n",
       "Country[T.Senegal]                -4.5831      0.193    -23.714      0.000      -4.962      -4.204\n",
       "Country[T.Singapore]               1.9792      0.179     11.041      0.000       1.628       2.331\n",
       "Country[T.Slovak Republic]         1.7140      0.179      9.553      0.000       1.362       2.066\n",
       "Country[T.Slovenia]                1.1254      0.180      6.269      0.000       0.774       1.477\n",
       "Country[T.South Africa]            1.4313      0.179      8.000      0.000       1.081       1.782\n",
       "Country[T.South Korea]         -2.138e-16   3.22e-17     -6.642      0.000   -2.77e-16   -1.51e-16\n",
       "Country[T.Spain]                   3.6741      0.179     20.540      0.000       3.324       4.025\n",
       "Country[T.Sweden]                  2.4402      0.179     13.632      0.000       2.089       2.791\n",
       "Country[T.Thailand]             1.208e-16   3.91e-17      3.088      0.002    4.41e-17    1.98e-16\n",
       "Country[T.Togo]                   -5.1637      0.203    -25.447      0.000      -5.561      -4.766\n",
       "Country[T.Trinidad and Tobago]    -4.8006      0.205    -23.393      0.000      -5.203      -4.398\n",
       "Country[T.Tunisia]              3.464e-16   2.57e-17     13.485      0.000    2.96e-16    3.97e-16\n",
       "Country[T.Turkey]               1.953e-16   3.97e-17      4.922      0.000    1.18e-16    2.73e-16\n",
       "Country[T.U.A.E.]                  2.3260      0.179     12.984      0.000       1.975       2.677\n",
       "Country[T.United States]           4.7643      0.179     26.626      0.000       4.414       5.115\n",
       "Country[T.Uruguay]                -2.5044      0.184    -13.633      0.000      -2.864      -2.144\n",
       "Country[T.Yemen]                        0          0        nan        nan           0           0\n",
       "Country[T.Yugoslavia]                   0          0        nan        nan           0           0\n",
       "MEDIAN_PIRLSDIV1000:PORTION_HS    -0.0151      0.012     -1.233      0.218      -0.039       0.009\n",
       "ind1990ddx                         0.0011      0.000      6.762      0.000       0.001       0.001\n",
       "==============================================================================\n",
       "Omnibus:                     1233.449   Durbin-Watson:                   1.541\n",
       "Prob(Omnibus):                  0.000   Jarque-Bera (JB):             2852.465\n",
       "Skew:                          -0.293   Prob(JB):                         0.00\n",
       "Kurtosis:                       4.500   Cond. No.                     1.10e+20\n",
       "==============================================================================\n",
       "\n",
       "Notes:\n",
       "[1] Standard Errors assume that the covariance matrix of the errors is correctly specified.\n",
       "[2] The smallest eigenvalue is 1.36e-31. This might indicate that there are\n",
       "strong multicollinearity problems or that the design matrix is singular.\n",
       "\"\"\""
      ]
     },
     "execution_count": 80,
     "metadata": {},
     "output_type": "execute_result"
    }
   ],
   "source": [
    "exports_1_res.summary()"
   ]
  }
 ],
 "metadata": {
  "kernelspec": {
   "display_name": "Python 3",
   "language": "python",
   "name": "python3"
  },
  "language_info": {
   "codemirror_mode": {
    "name": "ipython",
    "version": 3
   },
   "file_extension": ".py",
   "mimetype": "text/x-python",
   "name": "python",
   "nbconvert_exporter": "python",
   "pygments_lexer": "ipython3",
   "version": "3.8.5"
  }
 },
 "nbformat": 4,
 "nbformat_minor": 4
}
